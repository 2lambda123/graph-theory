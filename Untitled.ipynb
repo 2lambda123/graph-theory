{
 "cells": [
  {
   "cell_type": "code",
   "execution_count": 1,
   "metadata": {
    "collapsed": true
   },
   "outputs": [],
   "source": [
    "#word ladder is an interesting game\n",
    "#rules of word ladder can be found in the following link\n",
    "# https://en.wikipedia.org/wiki/Word_ladder\n",
    "\n",
    "#details of graph adt can be found in the following link\n",
    "# https://github.com/tattooday/graph-theory/blob/master/BFS%20DFS%20on%20DCG.ipynb\n",
    "class graph:\n",
    "\n",
    "        def __init__(self):\n",
    "\n",
    "            self.graph={}\n",
    "\n",
    "            self.visited={}\n",
    "\n",
    "    \n",
    "\n",
    "        def append(self,vertexid,edge,weight):\n",
    "\n",
    "            if vertexid not in self.graph.keys():          \n",
    "\n",
    "                self.graph[vertexid]={}\n",
    "\n",
    "                self.visited[vertexid]=0\n",
    "\n",
    "            self.graph[vertexid][edge]=weight\n",
    "\n",
    "            \n",
    "\n",
    "        def reveal(self):\n",
    "\n",
    "            return self.graph\n",
    "\n",
    "        \n",
    "\n",
    "        def vertex(self):\n",
    "\n",
    "            return list(self.graph.keys())\n",
    "\n",
    "    \n",
    "\n",
    "        def edge(self,vertexid):\n",
    "\n",
    "            return list(self.graph[vertexid].keys())\n",
    "\n",
    "        \n",
    "\n",
    "        def weight(self,vertexid,edge):\n",
    "\n",
    "            return (self.graph[vertexid][edge])\n",
    "\n",
    "        \n",
    "\n",
    "        def size(self):\n",
    "\n",
    "            return len(self.graph)\n",
    "\n",
    "        \n",
    "\n",
    "        def visit(self,vertexid):\n",
    "\n",
    "            self.visited[vertexid]=1\n",
    "\n",
    "            \n",
    "\n",
    "        def go(self,vertexid):\n",
    "\n",
    "            return self.visited[vertexid]\n",
    "\n",
    "        \n",
    "\n",
    "        def route(self):\n",
    "\n",
    "            return self.visited"
   ]
  },
  {
   "cell_type": "code",
   "execution_count": 2,
   "metadata": {
    "collapsed": true
   },
   "outputs": [],
   "source": [
    "#details of bfs and dfs can be found in the following link\n",
    "# https://github.com/tattooday/graph-theory/blob/master/BFS%20DFS%20on%20DCG.ipynb\n",
    "\n",
    "def bfs(df,start,end):\n",
    "\n",
    "    queue=[]\n",
    "\n",
    "    queue.append(start)\n",
    "\n",
    "    pred={}\n",
    "\n",
    "\n",
    "    \n",
    "\n",
    "    while queue:\n",
    "\n",
    "        temp=queue.pop(0)\n",
    "\n",
    "        df.visit(temp)\n",
    "\n",
    "        for newpos in df.edge(temp):\n",
    "\n",
    "            if df.go(newpos)==0 and newpos not in queue:\n",
    "\n",
    "                queue.append(newpos)\n",
    "\n",
    "                pred[newpos]=temp\n",
    "\n",
    "                \n",
    "        if temp==end:\n",
    "\n",
    "            break\n",
    "\n",
    "    k=end\n",
    "\n",
    "    path=[]\n",
    "\n",
    "    while pred:\n",
    "\n",
    "        path.insert(0,k)\n",
    "\n",
    "        if k==start:\n",
    "\n",
    "            break\n",
    "\n",
    "        k=pred[k]\n",
    "\n",
    "        \n",
    "\n",
    "    return len(path)-1,path"
   ]
  },
  {
   "cell_type": "code",
   "execution_count": 3,
   "metadata": {},
   "outputs": [],
   "source": [
    "#to simplify our problem\n",
    "#lets upload a small txt file with selected words of four letters\n",
    "#which can be downloaded in the following link\n",
    "# https://github.com/tattooday/graph-theory/blob/master/word%20ladder.txt\n",
    "import os \n",
    "os.chdir('d:/') \n",
    "os.getcwd()\n",
    "f=open('word ladder.txt','r') \n",
    "words=[] \n",
    "for i in f.readlines(): \n",
    "    words.append(i.replace('\\n',''))"
   ]
  },
  {
   "cell_type": "code",
   "execution_count": 4,
   "metadata": {
    "collapsed": true
   },
   "outputs": [],
   "source": [
    "#the tricky part is always edges\n",
    "#to connect each word together\n",
    "#lets do a traversal on all words in txt file\n",
    "#each word, we would remove a letter and replace by '_'\n",
    "#we build up a dictionary and let words fill in dictionary\n",
    "\n",
    "#for instance, word 'pale' can be converted to 'p_le'\n",
    "#word 'pole' can be converted to 'p_le' as well\n",
    "#therefore, they would be appended into a list under the same key of a dictionary\n",
    "dictionary={} \n",
    "for i in words: \n",
    "    for j in range(4): \n",
    "        string=i[:j]+'_'+i[j+1:] \n",
    "        try: \n",
    "            dictionary[string].append(i) \n",
    "        except KeyError: \n",
    "            dictionary[string]=[i]"
   ]
  },
  {
   "cell_type": "code",
   "execution_count": 5,
   "metadata": {
    "collapsed": true
   },
   "outputs": [],
   "source": [
    "#next step is to let every word under the same key connect with each other\n",
    "#thats how we build up edges in a graph adt\n",
    "df=graph() \n",
    "for k in dictionary: \n",
    "    for l in dictionary[k]: \n",
    "        for m in dictionary[k]: \n",
    "            if l!=m: \n",
    "                df.append(l,m,1)"
   ]
  },
  {
   "cell_type": "code",
   "execution_count": 6,
   "metadata": {},
   "outputs": [
    {
     "data": {
      "text/plain": [
       "(6, ['pale', 'pole', 'poll', 'pool', 'fool', 'foul', 'soul'])"
      ]
     },
     "execution_count": 6,
     "metadata": {},
     "output_type": "execute_result"
    }
   ],
   "source": [
    "#ta-da\n",
    "#our solution is here\n",
    "#it takes six steps from pale to soul\n",
    "#if we have a complete oxford dictionary\n",
    "#i bet we can do it in 4\n",
    "bfs(df,'pale','soul')"
   ]
  },
  {
   "cell_type": "code",
   "execution_count": null,
   "metadata": {
    "collapsed": true
   },
   "outputs": [],
   "source": []
  }
 ],
 "metadata": {
  "kernelspec": {
   "display_name": "Python 3",
   "language": "python",
   "name": "python3"
  },
  "language_info": {
   "codemirror_mode": {
    "name": "ipython",
    "version": 3
   },
   "file_extension": ".py",
   "mimetype": "text/x-python",
   "name": "python",
   "nbconvert_exporter": "python",
   "pygments_lexer": "ipython3",
   "version": "3.6.2"
  }
 },
 "nbformat": 4,
 "nbformat_minor": 2
}
