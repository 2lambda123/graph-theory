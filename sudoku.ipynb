{
 "cells": [
  {
   "cell_type": "markdown",
   "metadata": {},
   "source": [
    "### Sudoku\n",
    "\n",
    "&nbsp;\n",
    "\n",
    "Sudoku is a logic-based, combinatorial number-placement puzzle. Despite its Japanese name, the game was actually invented by an American and later gained popularity in Japan. \n",
    "\n",
    "There are many ways for computer algorithms to solve Sudoku. Here we use vertex coloring to solve the puzzle via maximum independent set. Vertex coloring guarantees no adjacent vertex should have the same color. As long as we can create a proper data structure for Sudoku puzzle, we are able to find the optimal vertex coloring scheme. However, the optimal graph coloring is in fact an NP-hard problem as mentioned in graph coloring session. There are plenty of greedy algorithms but none really work very well on Sudoku. \n",
    "\n",
    "To avoid brute force, we tackle the optimal vertex coloring via maximum independent set. The maximum independent set is also an NP-hard problem with plenty of approximation algorithms not working well. So we apply a trick. The maximum independent set in a graph ADT is a maximum clique in a complement graph. It is much easier to search all the maximal cliques via Bron Kerbosch algorithm. We merely need to discover the maximal clique with maximum cardinality. Well, this quid pro quoi method has its faux pas. The time complexity shoots through the roof! Thus, we only take 4 by 4 Sudoku for the purpose of demonstration. Binary integer linear programming is the recommended way to solve Sudoku.\n",
    "\n",
    "Reference to the data structure for maximum independent set is on the page 147 in the link below\n",
    "\n",
    "http://www.iitg.ac.in/psm/GIAN-DNA/material/3-MIS-wo.pdf\n",
    "\n",
    "Reference to maximal clique and Bron Kerbosch algorithm\n",
    "\n",
    "https://github.com/je-suis-tm/graph-theory/blob/master/maximal%20clique.ipynb\n",
    "\n",
    "Reference to maximum independent set\n",
    "\n",
    "https://github.com/je-suis-tm/graph-theory/blob/master/maximum%20independet%20set.ipynb\n",
    "\n",
    "Reference to graph coloring\n",
    "\n",
    "https://github.com/je-suis-tm/graph-theory/blob/master/graph%20coloring.ipynb\n",
    "\n",
    "Reference to Binary Integer Linear Programming for Sudoku\n",
    "\n",
    "https://github.com/je-suis-tm/operation-research/blob/main/sudoku.ipynb"
   ]
  },
  {
   "cell_type": "code",
   "execution_count": 1,
   "metadata": {},
   "outputs": [],
   "source": [
    "import numpy as np\n",
    "import os\n",
    "os.chdir('K:/ecole/github/televerser')\n",
    "import matplotlib.pyplot as plt\n",
    "import matplotlib.patches as patches\n",
    "\n",
    "#graph adt\n",
    "#check the below link for more details\n",
    "# https://github.com/je-suis-tm/graph-theory/blob/master/graph.py\n",
    "import graph"
   ]
  },
  {
   "cell_type": "markdown",
   "metadata": {},
   "source": [
    "### functions"
   ]
  },
  {
   "cell_type": "code",
   "execution_count": 2,
   "metadata": {},
   "outputs": [],
   "source": [
    "#convert sudoku to graph structure\n",
    "def create_graph_structure(num):\n",
    "\n",
    "    ADT=graph.graph()\n",
    "\n",
    "    #locate the coordinates of submatrices\n",
    "    pivots=[i for i in range(0,num,int(num**0.5))]\n",
    "    intervals=[range(i,i+int(num**0.5)) for i in pivots]\n",
    "    submatrices=[(i,j) for i in intervals for j in intervals]\n",
    "\n",
    "    #connect elements in the same submatrix\n",
    "    for submatrix in submatrices:\n",
    "        vertices=[(i,j) for i in submatrix[0] for j in submatrix[1]]\n",
    "        for i in range(len(vertices)):\n",
    "            for j in range(i+1,len(vertices)):\n",
    "                ADT.append(vertices[i],vertices[j],0)\n",
    "                ADT.append(vertices[j],vertices[i],0)    \n",
    "\n",
    "    #connect elements in the same column\n",
    "    for latitude in range(num):\n",
    "        cols=[(latitude,i) for i in range(num)]\n",
    "        for i in range(len(cols)):\n",
    "            for j in range(i+1,len(cols)):\n",
    "                ADT.append(cols[i],cols[j],0)\n",
    "                ADT.append(cols[j],cols[i],0)        \n",
    "\n",
    "    #connect elements in the same row\n",
    "    for longitude in range(num):\n",
    "        rows=[(i,longitude) for i in range(num)]\n",
    "        for i in range(len(rows)):\n",
    "            for j in range(i+1,len(rows)):\n",
    "                ADT.append(rows[i],rows[j],0)\n",
    "                ADT.append(rows[j],rows[i],0)\n",
    "                \n",
    "    return ADT"
   ]
  },
  {
   "cell_type": "code",
   "execution_count": 3,
   "metadata": {},
   "outputs": [],
   "source": [
    "#prepare sudoku graph for coloring\n",
    "def get_sudoku_graph(puzzle):\n",
    "\n",
    "    #convert sudoku to graph\n",
    "    num=puzzle.shape[0]\n",
    "    ADT=create_graph_structure(num)\n",
    "    \n",
    "    #get filled cells\n",
    "    exclude_vertices=[(np.where(puzzle!=0)[0][i],np.where(puzzle!=0)[1][i]) for i in range(len(np.where(puzzle!=0)[0]))]\n",
    "    \n",
    "    coloring_graph=graph.graph()    \n",
    "    for node in ADT.vertex():\n",
    "        \n",
    "        #create clones to form cliques\n",
    "        for from_color in range(1,num+1):\n",
    "            for to_color in range(from_color+1,num+1):\n",
    "                coloring_graph.append((node[0],node[1],from_color),\n",
    "                                      (node[0],node[1],to_color),0)\n",
    "                coloring_graph.append((node[0],node[1],to_color),\n",
    "                                      (node[0],node[1],from_color),0)\n",
    "\n",
    "        #connect clones\n",
    "        for link in ADT.edge(node):\n",
    "            for color in range(1,num+1):\n",
    "                coloring_graph.append((node[0],node[1],color),\n",
    "                                      (link[0],link[1],color),0)\n",
    "                coloring_graph.append((link[0],link[1],color),\n",
    "                                      (node[0],node[1],color),0)\n",
    "\n",
    "    #remove filled cells\n",
    "    for node in exclude_vertices:\n",
    "        current_vertex=(node[0],node[1],puzzle[node])\n",
    "        for neighbor in coloring_graph.edge(current_vertex):\n",
    "            coloring_graph.remove(neighbor)\n",
    "        coloring_graph.remove(current_vertex)\n",
    "        \n",
    "\n",
    "    return coloring_graph"
   ]
  },
  {
   "cell_type": "code",
   "execution_count": 4,
   "metadata": {},
   "outputs": [],
   "source": [
    "#create output\n",
    "#convert flatten matrix to a regular n by n matrix\n",
    "def extract_solution(puzzle,ans):\n",
    "\n",
    "    #initialize\n",
    "    solution=puzzle.copy()\n",
    "\n",
    "    #revert flatten matrix to real sudoku\n",
    "    for i in ans:\n",
    "        solution[(i[0],i[1])]=i[2]\n",
    "\n",
    "    return solution"
   ]
  },
  {
   "cell_type": "code",
   "execution_count": 5,
   "metadata": {},
   "outputs": [],
   "source": [
    "#viz sudoku\n",
    "def viz(sudoku,colors):\n",
    "\n",
    "    ax=plt.figure(figsize=(5,5)).add_subplot(111)\n",
    "    \n",
    "    #plot blocks with graph coloring\n",
    "    for latitude in range(sudoku.shape[0]):\n",
    "        for longitude in range(sudoku.shape[1]):\n",
    "            ax.add_patch(patches.Rectangle((latitude,longitude),\n",
    "                    1,1,facecolor=colors[sudoku[latitude][longitude]],\n",
    "                                           edgecolor='k',fill=True))\n",
    "\n",
    "    #show answers\n",
    "    for latitude in range(sudoku.shape[0]):\n",
    "        for longitude in range(sudoku.shape[1]):\n",
    "            plt.text(latitude+0.5,longitude+0.5,\n",
    "                     str(sudoku[latitude][longitude]),\n",
    "                     ha='center',va='center',fontsize=20)\n",
    "\n",
    "    plt.xlim((0,sudoku.shape[0]))\n",
    "    plt.ylim((0,sudoku.shape[1]))\n",
    "    plt.xticks([])\n",
    "    plt.yticks([])\n",
    "    plt.show()"
   ]
  },
  {
   "cell_type": "markdown",
   "metadata": {},
   "source": [
    "### run"
   ]
  },
  {
   "cell_type": "code",
   "execution_count": 6,
   "metadata": {},
   "outputs": [],
   "source": [
    "#due to the crazy time complexity\n",
    "#we will stick to 4 by 4 sudoku\n",
    "puzzle=np.array([\n",
    "[0,0,2,0],\n",
    "[0,0,0,1],\n",
    "[0,1,0,0],\n",
    "[4,0,0,2]])"
   ]
  },
  {
   "cell_type": "code",
   "execution_count": 7,
   "metadata": {},
   "outputs": [],
   "source": [
    "#create graph structure suitable for graph coloring\n",
    "coloring_graph=get_sudoku_graph(puzzle)"
   ]
  },
  {
   "cell_type": "code",
   "execution_count": 8,
   "metadata": {},
   "outputs": [],
   "source": [
    "#create the inverse of coloring graph\n",
    "complement_graph=graph.graph()\n",
    "for node in coloring_graph.vertex():\n",
    "    connections=[link for link in coloring_graph.vertex() if link not in coloring_graph.edge(node)]\n",
    "    for link in connections:\n",
    "        complement_graph.append(node,link,0)"
   ]
  },
  {
   "cell_type": "code",
   "execution_count": 9,
   "metadata": {},
   "outputs": [],
   "source": [
    "#the maximum independent set of a graph\n",
    "#is the maximum clique of its complement graph\n",
    "#hence we find out all the maximal cliques first\n",
    "mis=list(graph.bron_kerbosch(complement_graph,\n",
    "                             P=set(complement_graph.vertex())))"
   ]
  },
  {
   "cell_type": "code",
   "execution_count": 10,
   "metadata": {},
   "outputs": [],
   "source": [
    "#select the maximal clique with the maximum cardinality\n",
    "#if there are multiple\n",
    "#we pick the first\n",
    "ans=max(mis,key=len)"
   ]
  },
  {
   "cell_type": "code",
   "execution_count": 11,
   "metadata": {},
   "outputs": [
    {
     "data": {
      "text/plain": [
       "array([[1, 4, 2, 3],\n",
       "       [3, 2, 4, 1],\n",
       "       [2, 1, 3, 4],\n",
       "       [4, 3, 1, 2]])"
      ]
     },
     "execution_count": 11,
     "metadata": {},
     "output_type": "execute_result"
    }
   ],
   "source": [
    "#display the result in matrix form\n",
    "sudoku=extract_solution(puzzle,ans)\n",
    "sudoku"
   ]
  },
  {
   "cell_type": "code",
   "execution_count": 12,
   "metadata": {},
   "outputs": [
    {
     "data": {
      "image/png": "[encoded data removed]",
      "text/plain": [
       "<Figure size 360x360 with 1 Axes>"
      ]
     },
     "metadata": {},
     "output_type": "display_data"
    }
   ],
   "source": [
    "#viz\n",
    "viz(sudoku,{1:'#ff0000',2:'#ffbf00',3:'#00ff00',4:'#007fff'})"
   ]
  },
  {
   "cell_type": "code",
   "execution_count": null,
   "metadata": {},
   "outputs": [],
   "source": []
  }
 ],
 "metadata": {
  "kernelspec": {
   "display_name": "Python 3",
   "language": "python",
   "name": "python3"
  },
  "language_info": {
   "codemirror_mode": {
    "name": "ipython",
    "version": 3
   },
   "file_extension": ".py",
   "mimetype": "text/x-python",
   "name": "python",
   "nbconvert_exporter": "python",
   "pygments_lexer": "ipython3",
   "version": "3.6.5"
  },
  "latex_envs": {
   "LaTeX_envs_menu_present": true,
   "autoclose": false,
   "autocomplete": true,
   "bibliofile": "biblio.bib",
   "cite_by": "apalike",
   "current_citInitial": 1,
   "eqLabelWithNumbers": true,
   "eqNumInitial": 1,
   "hotkeys": {
    "equation": "Ctrl-E",
    "itemize": "Ctrl-I"
   },
   "labels_anchors": false,
   "latex_user_defs": false,
   "report_style_numbering": false,
   "user_envs_cfg": false
  },
  "toc": {
   "base_numbering": 1,
   "nav_menu": {},
   "number_sections": true,
   "sideBar": true,
   "skip_h1_title": false,
   "title_cell": "Table of Contents",
   "title_sidebar": "Contents",
   "toc_cell": false,
   "toc_position": {},
   "toc_section_display": true,
   "toc_window_display": false
  }
 },
 "nbformat": 4,
 "nbformat_minor": 2
}
