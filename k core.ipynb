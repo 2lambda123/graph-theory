{
 "cells": [
  {
   "cell_type": "markdown",
   "metadata": {},
   "source": [
    "K core or K degenerate or coloring number refers to a subset where each vertex has a degree of at least K.\n",
    "\n",
    "For details, you can check out this video.\n",
    "\n",
    "https://www.youtube.com/watch?v=rHVrgbc_3JA"
   ]
  },
  {
   "cell_type": "code",
   "execution_count": 1,
   "metadata": {},
   "outputs": [],
   "source": [
    "import copy"
   ]
  },
  {
   "cell_type": "code",
   "execution_count": 2,
   "metadata": {},
   "outputs": [],
   "source": [
    "#new functions are created for this script\n",
    "#including vertex degree, adjacency matrix and remove vertex\n",
    "class graph:\n",
    "    def __init__(self):\n",
    "        self.graph={}\n",
    "        self.visited={}        \n",
    "\n",
    "    def append(self,vertexid,edge,weight):\n",
    "        if vertexid not in self.graph.keys():          \n",
    "            self.graph[vertexid]={}\n",
    "            self.visited[vertexid]=0\n",
    "        self.graph[vertexid][edge]=weight\n",
    "\n",
    "    def reveal(self):\n",
    "        return self.graph\n",
    "    \n",
    "    def vertex(self):\n",
    "        return list(self.graph.keys())\n",
    "\n",
    "    def edge(self,vertexid):\n",
    "        return list(self.graph[vertexid].keys())\n",
    "    \n",
    "    def weight(self,vertexid,edge):\n",
    "        \n",
    "        return (self.graph[vertexid][edge])\n",
    "    \n",
    "    def size(self):\n",
    "        return len(self.graph)\n",
    "    \n",
    "    def visit(self,vertexid):\n",
    "        self.visited[vertexid]=1\n",
    "    \n",
    "    def go(self,vertexid):\n",
    "        return self.visited[vertexid]\n",
    "    \n",
    "    def route(self):\n",
    "        return self.visited\n",
    "    \n",
    "    #compute the degree of a given vertex\n",
    "    def degree(self,vertexid):\n",
    "        return len(self.graph[vertexid])\n",
    "    \n",
    "    #convert to adjacency matrix\n",
    "    def mat(self):\n",
    "        \n",
    "        self.matrix=[]\n",
    "        \n",
    "        for i in self.graph:\n",
    "\n",
    "            self.matrix.append([0 for k in range(len(self.graph))])\n",
    "            \n",
    "            #when two vertices are connected\n",
    "            #we set the value to 1\n",
    "            for j in self.graph[i].keys():        \n",
    "                self.matrix[i-1][j-1]=1\n",
    "        \n",
    "        return self.matrix\n",
    "    \n",
    "    #remove one vertex and its edges\n",
    "    def remove(self,node):\n",
    "        \n",
    "        for i in self.graph[node].keys():\n",
    "            self.graph[i].pop(node)\n",
    "        self.graph.pop(node)"
   ]
  },
  {
   "cell_type": "code",
   "execution_count": 3,
   "metadata": {},
   "outputs": [],
   "source": [
    "#to get k core/degenerate\n",
    "#we need an undirected graph\n",
    "#in another word, vertices with edge connections \n",
    "#are mutually connected to each other\n",
    "df=graph()\n",
    "df.append(1,2,0)\n",
    "df.append(1,3,0)\n",
    "df.append(1,4,0)\n",
    "df.append(1,6,0)\n",
    "df.append(2,1,0)\n",
    "df.append(3,1,0)\n",
    "df.append(4,1,0)\n",
    "df.append(6,1,0)\n",
    "\n",
    "df.append(2,3,0)\n",
    "df.append(2,4,0)\n",
    "df.append(2,6,0)\n",
    "df.append(3,2,0)\n",
    "df.append(4,2,0)\n",
    "df.append(6,2,0)\n",
    "\n",
    "df.append(3,4,0)\n",
    "df.append(3,7,0)\n",
    "df.append(4,3,0)\n",
    "df.append(7,3,0)\n",
    "\n",
    "df.append(4,5,0)\n",
    "df.append(5,4,0)\n",
    "\n",
    "df.append(5,6,0)\n",
    "df.append(6,5,0)"
   ]
  },
  {
   "cell_type": "code",
   "execution_count": 4,
   "metadata": {},
   "outputs": [
    {
     "data": {
      "text/plain": [
       "{1: {2: 0, 3: 0, 4: 0, 6: 0},\n",
       " 2: {1: 0, 3: 0, 4: 0, 6: 0},\n",
       " 3: {1: 0, 2: 0, 4: 0, 7: 0},\n",
       " 4: {1: 0, 2: 0, 3: 0, 5: 0},\n",
       " 6: {1: 0, 2: 0, 5: 0},\n",
       " 7: {3: 0},\n",
       " 5: {4: 0, 6: 0}}"
      ]
     },
     "execution_count": 4,
     "metadata": {},
     "output_type": "execute_result"
    }
   ],
   "source": [
    "df.reveal()"
   ]
  },
  {
   "cell_type": "markdown",
   "metadata": {},
   "source": [
    "![alt text](./preview/kcore1.png)"
   ]
  },
  {
   "cell_type": "code",
   "execution_count": 5,
   "metadata": {},
   "outputs": [],
   "source": [
    "#sort the vertices by their degree in descending order\n",
    "def sort_by_degree(df):\n",
    "    \n",
    "    dic={}\n",
    "    for i in df.vertex():\n",
    "        dic[i]=df.degree(i)\n",
    "\n",
    "    output=[i[0] for i in sorted(dic.items(), key=lambda x:x[1])]\n",
    "    \n",
    "    return output[::-1]"
   ]
  },
  {
   "cell_type": "code",
   "execution_count": 6,
   "metadata": {},
   "outputs": [],
   "source": [
    "#unlike other problems in graph theory\n",
    "#i struggle to find a popular algorithm for degeneracy ordering\n",
    "#hence, i implement my own algorithm to find a k core graph\n",
    "#basically i am using priority queue to find k core by brute force\n",
    "#the priority queue is solved by two lists\n",
    "#one as a queue, the other as a priority list\n",
    "def find_kcore(core,df):\n",
    "    \n",
    "    #make a subset of the original graph\n",
    "    subset=copy.deepcopy(df)\n",
    "    \n",
    "    #fill the queue with all the vertices in the graph\n",
    "    #we sort the queue by the degree of each vertex\n",
    "    #so we can remove the node with the minimum degree first\n",
    "    queue=sort_by_degree(subset)\n",
    "    \n",
    "    #pop a random vertex from the queue\n",
    "    node=queue.pop()\n",
    "    \n",
    "    #initialize the priority list\n",
    "    priority=set([])\n",
    "    \n",
    "    #queue contains all the vertices pending for check\n",
    "    #when the queue is empty, we finish the traversal\n",
    "    while queue:\n",
    "        \n",
    "        #to create k edges for each vertex in the graph\n",
    "        #you need at least k+1 vertices\n",
    "        #as the number of vertices drops below k+1\n",
    "        #for the sake of efficiency\n",
    "        #there is no point of going further\n",
    "        if len(subset.vertex())<core+1:\n",
    "            return {}\n",
    "        \n",
    "        #check the degree of a given node\n",
    "        #if the degree is smaller than our target core number\n",
    "        #we will remove the node\n",
    "        if subset.degree(node)<core:\n",
    "            \n",
    "            #if the neighbors of a given node exist in the priority list\n",
    "            #we will check these adjacent vertices first\n",
    "            #these vertices are top priority\n",
    "            #because the vertex adjacent to the deleted node suffers from degree loss\n",
    "            #if we cannot find any top priority\n",
    "            #we take a union and settle with lower priority\n",
    "            if priority.intersection(set(subset.edge(node))):\n",
    "                priority=priority.intersection(set(subset.edge(node)))\n",
    "            else:\n",
    "                priority=priority.union(set(subset.edge(node)))\n",
    "            \n",
    "            #sort priority list by the degree of each vertex\n",
    "            #so we can remove the vertex with the minimum degree first\n",
    "            priority=set([i for i in sort_by_degree(subset) if i in priority])\n",
    "            \n",
    "            subset.remove(node)\n",
    "\n",
    "        #when we have something in the priority list\n",
    "        #we always examine those vertices first\n",
    "        #and these vertices should be removed from the queue as well\n",
    "        #when we have an empty priority list\n",
    "        #we get a random node from the queue\n",
    "        if priority:\n",
    "            node=priority.pop()\n",
    "            queue.remove(node)\n",
    "        else:\n",
    "            node=queue.pop()       \n",
    "        \n",
    "    return subset.reveal()"
   ]
  },
  {
   "cell_type": "code",
   "execution_count": 7,
   "metadata": {
    "scrolled": true
   },
   "outputs": [
    {
     "data": {
      "text/plain": [
       "{1: {2: 0, 3: 0, 4: 0, 6: 0},\n",
       " 2: {1: 0, 3: 0, 4: 0, 6: 0},\n",
       " 3: {1: 0, 2: 0, 4: 0, 7: 0},\n",
       " 4: {1: 0, 2: 0, 3: 0, 5: 0},\n",
       " 6: {1: 0, 2: 0, 5: 0},\n",
       " 7: {3: 0},\n",
       " 5: {4: 0, 6: 0}}"
      ]
     },
     "execution_count": 7,
     "metadata": {},
     "output_type": "execute_result"
    }
   ],
   "source": [
    "find_kcore(1,df)"
   ]
  },
  {
   "cell_type": "markdown",
   "metadata": {},
   "source": [
    "![alt text](./preview/kcore1.png)"
   ]
  },
  {
   "cell_type": "code",
   "execution_count": 8,
   "metadata": {},
   "outputs": [
    {
     "data": {
      "text/plain": [
       "{1: {2: 0, 3: 0, 4: 0, 6: 0},\n",
       " 2: {1: 0, 3: 0, 4: 0, 6: 0},\n",
       " 3: {1: 0, 2: 0, 4: 0},\n",
       " 4: {1: 0, 2: 0, 3: 0, 5: 0},\n",
       " 6: {1: 0, 2: 0, 5: 0},\n",
       " 5: {4: 0, 6: 0}}"
      ]
     },
     "execution_count": 8,
     "metadata": {},
     "output_type": "execute_result"
    }
   ],
   "source": [
    "find_kcore(2,df)"
   ]
  },
  {
   "cell_type": "markdown",
   "metadata": {},
   "source": [
    "![alt text](./preview/kcore2.png)"
   ]
  },
  {
   "cell_type": "code",
   "execution_count": 9,
   "metadata": {},
   "outputs": [
    {
     "data": {
      "text/plain": [
       "{1: {2: 0, 3: 0, 4: 0},\n",
       " 2: {1: 0, 3: 0, 4: 0},\n",
       " 3: {1: 0, 2: 0, 4: 0},\n",
       " 4: {1: 0, 2: 0, 3: 0}}"
      ]
     },
     "execution_count": 9,
     "metadata": {},
     "output_type": "execute_result"
    }
   ],
   "source": [
    "find_kcore(3,df)"
   ]
  },
  {
   "cell_type": "markdown",
   "metadata": {},
   "source": [
    "The tricky part of 3-core graph is vertex 6.\n",
    "\n",
    "In 2-core graph, vertex 6 has a degree of 3.\n",
    "\n",
    "However, one of its adjacent vertices, vertex 5, only has a degree of 2.\n",
    "\n",
    "Once we remove the vertex 5, the degree of vertex 6 drops to 2.\n",
    "\n",
    "Thus, we remove vertex 6 as well."
   ]
  },
  {
   "cell_type": "markdown",
   "metadata": {},
   "source": [
    "![alt text](./preview/kcore3.png)"
   ]
  },
  {
   "cell_type": "code",
   "execution_count": 10,
   "metadata": {},
   "outputs": [
    {
     "data": {
      "text/plain": [
       "{}"
      ]
     },
     "execution_count": 10,
     "metadata": {},
     "output_type": "execute_result"
    }
   ],
   "source": [
    "find_kcore(4,df)"
   ]
  },
  {
   "cell_type": "code",
   "execution_count": null,
   "metadata": {},
   "outputs": [],
   "source": []
  }
 ],
 "metadata": {
  "kernelspec": {
   "display_name": "Python 3",
   "language": "python",
   "name": "python3"
  },
  "language_info": {
   "codemirror_mode": {
    "name": "ipython",
    "version": 3
   },
   "file_extension": ".py",
   "mimetype": "text/x-python",
   "name": "python",
   "nbconvert_exporter": "python",
   "pygments_lexer": "ipython3",
   "version": "3.6.5"
  }
 },
 "nbformat": 4,
 "nbformat_minor": 2
}
