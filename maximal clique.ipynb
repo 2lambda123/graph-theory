{
 "cells": [
  {
   "cell_type": "markdown",
   "metadata": {},
   "source": [
    "A clique is a subset of a graph that each vertex is interconnected.\n",
    "\n",
    "A maximal clique is a clique that has reached its maximum degree.\n",
    "\n",
    "No extra vertex can be added into the clique so that each vertex is interconnected.\n",
    "\n",
    "Bron-Kerbosch algorithm is the most efficient way to obtain maximal cliques from a graph."
   ]
  },
  {
   "cell_type": "code",
   "execution_count": 1,
   "metadata": {},
   "outputs": [],
   "source": [
    "import copy"
   ]
  },
  {
   "cell_type": "code",
   "execution_count": 2,
   "metadata": {},
   "outputs": [],
   "source": [
    "class graph:\n",
    "    def __init__(self):\n",
    "        self.graph={}\n",
    "        self.visited={}      \n",
    "        \n",
    "    def append(self,vertexid,edge,weight):\n",
    "        if vertexid not in self.graph.keys():          \n",
    "            self.graph[vertexid]={}\n",
    "            self.visited[vertexid]=0\n",
    "        self.graph[vertexid][edge]=weight\n",
    "\n",
    "    def reveal(self):\n",
    "        return self.graph\n",
    "    \n",
    "    def vertex(self):\n",
    "        return list(self.graph.keys())\n",
    "\n",
    "    def edge(self,vertexid):\n",
    "        return list(self.graph[vertexid].keys())\n",
    "    \n",
    "    def weight(self,vertexid,edge):\n",
    "        \n",
    "        return (self.graph[vertexid][edge])\n",
    "    \n",
    "    def size(self):\n",
    "        return len(self.graph)\n",
    "    \n",
    "    def visit(self,vertexid):\n",
    "        self.visited[vertexid]=1\n",
    "    \n",
    "    def go(self,vertexid):\n",
    "        return self.visited[vertexid]\n",
    "    \n",
    "    def route(self):\n",
    "        return self.visited\n",
    "    \n",
    "    #convert to adjacency matrix\n",
    "    def mat(self):\n",
    "        \n",
    "        self.matrix=[]\n",
    "        \n",
    "        for i in self.graph:\n",
    "\n",
    "            self.matrix.append([0 for k in range(len(self.graph))])\n",
    "            \n",
    "            #when two vertices are connected\n",
    "            #we set the value to 1\n",
    "            for j in self.graph[i].keys():        \n",
    "                self.matrix[i-1][j-1]=1\n",
    "        \n",
    "        return self.matrix"
   ]
  },
  {
   "cell_type": "code",
   "execution_count": 3,
   "metadata": {},
   "outputs": [],
   "source": [
    "#to get maximal clique\n",
    "#we need an undirected graph\n",
    "#in another word, vertices with edge connections \n",
    "#are mutually connected to each other\n",
    "df=graph()\n",
    "df.append(1,2,6)\n",
    "df.append(1,3,5)\n",
    "df.append(2,1,6)\n",
    "df.append(2,4,8)\n",
    "df.append(2,6,3)\n",
    "df.append(3,1,5)\n",
    "df.append(3,4,2)\n",
    "df.append(3,5,7)\n",
    "df.append(4,2,8)\n",
    "df.append(4,3,2)\n",
    "df.append(4,5,7)\n",
    "df.append(5,3,3)\n",
    "df.append(5,4,7)\n",
    "df.append(5,7,9)\n",
    "df.append(6,2,3)\n",
    "df.append(6,7,5)\n",
    "df.append(7,5,9)\n",
    "df.append(7,6,5)\n",
    "df.append(7,8,13)\n",
    "df.append(8,7,13)"
   ]
  },
  {
   "cell_type": "markdown",
   "metadata": {},
   "source": [
    "![alt text](./preview/minimum%20spanning%20tree%20origin.jpg)"
   ]
  },
  {
   "cell_type": "code",
   "execution_count": 4,
   "metadata": {},
   "outputs": [
    {
     "data": {
      "text/plain": [
       "{1: {2: 6, 3: 5},\n",
       " 2: {1: 6, 4: 8, 6: 3},\n",
       " 3: {1: 5, 4: 2, 5: 7},\n",
       " 4: {2: 8, 3: 2, 5: 7},\n",
       " 5: {3: 3, 4: 7, 7: 9},\n",
       " 6: {2: 3, 7: 5},\n",
       " 7: {5: 9, 6: 5, 8: 13},\n",
       " 8: {7: 13}}"
      ]
     },
     "execution_count": 4,
     "metadata": {},
     "output_type": "execute_result"
    }
   ],
   "source": [
    "df.reveal()"
   ]
  },
  {
   "cell_type": "code",
   "execution_count": 5,
   "metadata": {},
   "outputs": [
    {
     "data": {
      "text/plain": [
       "[[0, 1, 1, 0, 0, 0, 0, 0],\n",
       " [1, 0, 0, 1, 0, 1, 0, 0],\n",
       " [1, 0, 0, 1, 1, 0, 0, 0],\n",
       " [0, 1, 1, 0, 1, 0, 0, 0],\n",
       " [0, 0, 1, 1, 0, 0, 1, 0],\n",
       " [0, 1, 0, 0, 0, 0, 1, 0],\n",
       " [0, 0, 0, 0, 1, 1, 0, 1],\n",
       " [0, 0, 0, 0, 0, 0, 1, 0]]"
      ]
     },
     "execution_count": 5,
     "metadata": {},
     "output_type": "execute_result"
    }
   ],
   "source": [
    "df.mat()"
   ]
  },
  {
   "cell_type": "code",
   "execution_count": 6,
   "metadata": {},
   "outputs": [],
   "source": [
    "#using brute force to solve maximal clique problem\n",
    "#as maximal clique problem is np hard\n",
    "#back tracking algorithm has very high time complexity\n",
    "#the idea is to iterate all subsets and combinations\n",
    "#and find out which is a maximal clique\n",
    "\n",
    "#clique_min defines the minimum size of maximal clique\n",
    "#in practical case, we dont want to include a two edge clique\n",
    "def backtrack(graph,clique_min=2):\n",
    "    \n",
    "    #each vertex in the graph acts as a pivot\n",
    "    #we form a new tree to check all the subsets that contain pivot\n",
    "    queue=graph.vertex()\n",
    "    \n",
    "    #output stores all the maximal cliques\n",
    "    output=[]\n",
    "    \n",
    "    #visited keeps track of all the pivot vertices we checked\n",
    "    visited=[]\n",
    "\n",
    "    for i in queue:\n",
    "        \n",
    "        #check all the vertices adjacent to the pivot i\n",
    "        adjacency=graph.edge(i)\n",
    "\n",
    "        for j in adjacency:\n",
    "            \n",
    "            #each edge that connects two vertices can form a clique\n",
    "            clique=[i,j]\n",
    "            \n",
    "            #check all the vertices adjacent to both pivot i and current node j\n",
    "            intersection=[node for node in graph.edge(j) if node in adjacency]\n",
    "            \n",
    "            #to remove duplicates and reduce iterations\n",
    "            #we check the reverse order as well\n",
    "            if f'{i}-{j}' in visited or f'{j}-{i}' in visited:\n",
    "                continue\n",
    "\n",
    "            visited.append(f'{i}-{j}')\n",
    "            \n",
    "            #the current node becomes k\n",
    "            #both i and j are already in the clique\n",
    "            #now we have to find a maximal clique\n",
    "            for k in intersection:\n",
    "                \n",
    "                stop=False\n",
    "                \n",
    "                #if node k is adjacent to all the nodes in the existing clique\n",
    "                for l in clique:\n",
    "                    if k not in graph.edge(l):\n",
    "                        stop=True\n",
    "                        break\n",
    "\n",
    "                if stop:\n",
    "                    continue\n",
    "                else:\n",
    "                    clique.append(k)\n",
    "            \n",
    "            #minimum clique size is 2 by default\n",
    "            #basically all edges are included\n",
    "            #as this is an undirected graph\n",
    "            #we can set it to 3 to be more useful\n",
    "            #use sorted to avoid duplicates in the output\n",
    "            if len(clique)>=clique_min and sorted(clique) not in output:\n",
    "                output.append(sorted(clique))\n",
    "                \n",
    "    return output"
   ]
  },
  {
   "cell_type": "code",
   "execution_count": 7,
   "metadata": {},
   "outputs": [
    {
     "data": {
      "text/plain": [
       "[[1, 2], [1, 3], [2, 4], [2, 6], [3, 4, 5], [5, 7], [6, 7], [7, 8]]"
      ]
     },
     "execution_count": 7,
     "metadata": {},
     "output_type": "execute_result"
    }
   ],
   "source": [
    "backtrack(df)"
   ]
  },
  {
   "cell_type": "code",
   "execution_count": null,
   "metadata": {},
   "outputs": [],
   "source": []
  }
 ],
 "metadata": {
  "kernelspec": {
   "display_name": "Python 3",
   "language": "python",
   "name": "python3"
  },
  "language_info": {
   "codemirror_mode": {
    "name": "ipython",
    "version": 3
   },
   "file_extension": ".py",
   "mimetype": "text/x-python",
   "name": "python",
   "nbconvert_exporter": "python",
   "pygments_lexer": "ipython3",
   "version": "3.6.5"
  }
 },
 "nbformat": 4,
 "nbformat_minor": 2
}
