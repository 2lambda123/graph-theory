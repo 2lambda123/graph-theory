{
 "cells": [
  {
   "cell_type": "markdown",
   "metadata": {},
   "source": [
    "### Graph Coloring\n",
    "\n",
    "&nbsp;\n",
    "\n",
    "Graph coloring is a color assignment problem on graph structures. The color could be assigned to the vertex or the edge. No adjacent vertex or edge (depends on the problem) should have the same color."
   ]
  },
  {
   "cell_type": "markdown",
   "metadata": {},
   "source": [
    "&nbsp;\n",
    "###### Vertex Coloring\n",
    "&nbsp;\n",
    "\n",
    "Certainly there are many vertex coloring algorithms. One of the most popular algorithms is DSatur Algorithm by Daniel Brélaz. It beats greedy algorithm (brute force color assignment to each vertex) in random graph.\n",
    "\n",
    "Reference to the original paper of DSatur\n",
    "\n",
    "https://www.semanticscholar.org/paper/New-methods-to-color-the-vertices-of-a-graph-Br%C3%A9laz/fbf8150f45d4358926e40f7005a2f493f39803ae"
   ]
  },
  {
   "cell_type": "code",
   "execution_count": 1,
   "metadata": {},
   "outputs": [],
   "source": [
    "import os\n",
    "os.chdir('K:/ecole/github/televerser')\n",
    "import random as rd\n",
    "import matplotlib.pyplot as plt\n",
    "\n",
    "#graph adt\n",
    "#check the below link for more details\n",
    "# https://github.com/je-suis-tm/graph-theory/blob/master/graph.py\n",
    "import graph"
   ]
  },
  {
   "cell_type": "code",
   "execution_count": 2,
   "metadata": {},
   "outputs": [],
   "source": [
    "#create graph adt\n",
    "#exactly the same adt in kcore and maximal clique\n",
    "ADT=graph.graph()\n",
    "ADT.append(1,2,0)\n",
    "ADT.append(1,3,0)\n",
    "ADT.append(1,4,0)\n",
    "ADT.append(1,6,0)\n",
    "ADT.append(2,1,0)\n",
    "ADT.append(3,1,0)\n",
    "ADT.append(4,1,0)\n",
    "ADT.append(6,1,0)\n",
    "\n",
    "ADT.append(2,3,0)\n",
    "ADT.append(2,4,0)\n",
    "ADT.append(2,6,0)\n",
    "ADT.append(3,2,0)\n",
    "ADT.append(4,2,0)\n",
    "ADT.append(6,2,0)\n",
    "\n",
    "ADT.append(3,4,0)\n",
    "ADT.append(3,7,0)\n",
    "ADT.append(4,3,0)\n",
    "ADT.append(7,3,0)\n",
    "\n",
    "ADT.append(4,5,0)\n",
    "ADT.append(5,4,0)\n",
    "\n",
    "ADT.append(5,6,0)\n",
    "ADT.append(6,5,0)"
   ]
  },
  {
   "cell_type": "code",
   "execution_count": 3,
   "metadata": {},
   "outputs": [
    {
     "data": {
      "text/plain": [
       "{1: {2: 0, 3: 0, 4: 0, 6: 0},\n",
       " 2: {1: 0, 3: 0, 4: 0, 6: 0},\n",
       " 3: {1: 0, 2: 0, 4: 0, 7: 0},\n",
       " 4: {1: 0, 2: 0, 3: 0, 5: 0},\n",
       " 6: {1: 0, 2: 0, 5: 0},\n",
       " 7: {3: 0},\n",
       " 5: {4: 0, 6: 0}}"
      ]
     },
     "execution_count": 3,
     "metadata": {},
     "output_type": "execute_result"
    }
   ],
   "source": [
    "ADT.reveal()"
   ]
  },
  {
   "cell_type": "markdown",
   "metadata": {},
   "source": [
    "![alt text](./preview/kcore1.png)"
   ]
  },
  {
   "cell_type": "code",
   "execution_count": 4,
   "metadata": {},
   "outputs": [],
   "source": [
    "#this algorithm is the exact replication of heuristic method in the paper mentioned above\n",
    "def dsatur(ADT):\n",
    "    \"\"\"graph coloring with dsatur algorithm\"\"\"\n",
    "\n",
    "    #step 1\n",
    "    #sort vertices by their degrees\n",
    "    #check matula beck section in the below link for more details\n",
    "    # https://github.com/je-suis-tm/graph-theory/blob/master/k%20core.ipynb\n",
    "    #pick the vertex with the largest degree\n",
    "    selected_vertex=graph.sort_by_degree(ADT)[0]\n",
    "\n",
    "    #initialize saturation degree\n",
    "    saturation_degrees=dict(zip(ADT.vertex(),\n",
    "                              [0]*ADT.order()))\n",
    "\n",
    "    #according to brooks theorem\n",
    "    #upper bound of chromatic number equals to maximum vertex degree plus one\n",
    "    chromatic_number_upper_bound=range(ADT.degree(selected_vertex)+1)\n",
    "\n",
    "    #step 2\n",
    "    #assign the first color to the vertex with the maximum degree\n",
    "    color_assignments={}\n",
    "    color_assignments[selected_vertex]=0\n",
    "\n",
    "    #fill each vertex with color\n",
    "    while len(color_assignments)<ADT.order():\n",
    "\n",
    "        #saturation degrees also serve as a queue\n",
    "        #remove colored vertex from the queue\n",
    "        saturation_degrees.pop(selected_vertex)\n",
    "\n",
    "        #update saturation degrees after color assignment\n",
    "        for node in ADT.edge(selected_vertex):\n",
    "            if node in saturation_degrees:\n",
    "                saturation_degrees[node]+=1\n",
    "\n",
    "        #step 3\n",
    "        #among uncolored vertices\n",
    "        #pick a vertex with the largest saturation degree\n",
    "        check_vertices_degree=[node for node in saturation_degrees if saturation_degrees[node]==max(saturation_degrees.values())]\n",
    "\n",
    "        #if there is an equality, choose one with the largest degree\n",
    "        if len(check_vertices_degree)>1:\n",
    "            degree_distribution=[ADT.degree(node) for node in check_vertices_degree]\n",
    "            selected_vertex=check_vertices_degree[degree_distribution.index(max(degree_distribution))]\n",
    "        else:\n",
    "            selected_vertex=check_vertices_degree[0]\n",
    "\n",
    "        #step 4\n",
    "        #exclude colors used by neighbors\n",
    "        #assign the least possible color to the selected vertex\n",
    "        excluded_colors=[color_assignments[node] for node in ADT.edge(selected_vertex) if node in color_assignments]\n",
    "        selected_color=[color for color in chromatic_number_upper_bound if color not in excluded_colors][0]\n",
    "        color_assignments[selected_vertex]=selected_color\n",
    "\n",
    "    return color_assignments"
   ]
  },
  {
   "cell_type": "code",
   "execution_count": 5,
   "metadata": {},
   "outputs": [],
   "source": [
    "#get color assignments\n",
    "color_assignments=dsatur(ADT)"
   ]
  },
  {
   "cell_type": "code",
   "execution_count": 6,
   "metadata": {},
   "outputs": [],
   "source": [
    "#assign coordinates for viz\n",
    "coordinates={1: (0.5, 3), 2: (0.5, 1),\n",
    " 3: (1.5, 2), 4: (2, 1),\n",
    " 5: (1, 0), 6: (0, 0), 7: (3, 3)}"
   ]
  },
  {
   "cell_type": "code",
   "execution_count": 7,
   "metadata": {},
   "outputs": [
    {
     "data": {
      "image/png": "[encoded data removed]",
      "text/plain": [
       "<Figure size 432x288 with 1 Axes>"
      ]
     },
     "metadata": {},
     "output_type": "display_data"
    }
   ],
   "source": [
    "#plot edge\n",
    "for i in ADT.vertex():\n",
    "    for j in ADT.edge(i):\n",
    "        plt.plot([coordinates[i][0],coordinates[j][0]],\n",
    "                 [coordinates[i][1],coordinates[j][1]],c='grey',alpha=0.5)\n",
    "\n",
    "#plot vertex\n",
    "plt.scatter([i[0] for i in coordinates.values()],\n",
    "           [i[1] for i in coordinates.values()],\n",
    "           s=500,c=[color_assignments[i] for i in coordinates])\n",
    "\n",
    "#plot vertex label\n",
    "for i in coordinates:\n",
    "    plt.text(coordinates[i][0],coordinates[i][1],i,\n",
    "             va='center',ha='center',color='white',fontsize=20)\n",
    "\n",
    "#tidy up the chart\n",
    "plt.axis('off')\n",
    "plt.xticks([])\n",
    "plt.yticks([])\n",
    "plt.show()"
   ]
  },
  {
   "cell_type": "code",
   "execution_count": null,
   "metadata": {},
   "outputs": [],
   "source": []
  }
 ],
 "metadata": {
  "kernelspec": {
   "display_name": "Python 3",
   "language": "python",
   "name": "python3"
  },
  "language_info": {
   "codemirror_mode": {
    "name": "ipython",
    "version": 3
   },
   "file_extension": ".py",
   "mimetype": "text/x-python",
   "name": "python",
   "nbconvert_exporter": "python",
   "pygments_lexer": "ipython3",
   "version": "3.6.5"
  },
  "toc": {
   "base_numbering": 1,
   "nav_menu": {},
   "number_sections": false,
   "sideBar": true,
   "skip_h1_title": false,
   "title_cell": "Table of Contents",
   "title_sidebar": "Contents",
   "toc_cell": false,
   "toc_position": {},
   "toc_section_display": true,
   "toc_window_display": false
  }
 },
 "nbformat": 4,
 "nbformat_minor": 2
}
