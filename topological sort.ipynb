{
 "cells": [
  {
   "cell_type": "code",
   "execution_count": 1,
   "metadata": {
    "collapsed": true
   },
   "outputs": [],
   "source": [
    "#topological sort is basically based on dfs\n",
    "#details of dfs can be found in the website below\n",
    "# https://github.com/tattooday/graph-theory/blob/master/BFS%20DFS%20on%20DCG.ipynb.ipynb\n",
    "class graph:\n",
    "    def __init__(self):\n",
    "        self.graph={}\n",
    "        self.visited={}\n",
    "\n",
    "    def append(self,vertexid,edge,weight):\n",
    "        if vertexid not in self.graph.keys():          \n",
    "            self.graph[vertexid]={}\n",
    "            self.visited[vertexid]=0\n",
    "        self.graph[vertexid][edge]=weight\n",
    "        \n",
    "    \n",
    "    def reveal(self):\n",
    "        return self.graph\n",
    "    \n",
    "    def vertex(self):\n",
    "        return list(self.graph.keys())\n",
    "\n",
    "    def edge(self,vertexid):\n",
    "        return list(self.graph[vertexid].keys())\n",
    "    \n",
    "    def weight(self,vertexid,edge):\n",
    "        return (self.graph[vertexid][edge])\n",
    "    \n",
    "    def size(self):\n",
    "        return len(self.graph)\n",
    "    \n",
    "    def visit(self,vertexid):\n",
    "        self.visited[vertexid]=1\n",
    "        \n",
    "    def go(self,vertexid):\n",
    "        return self.visited[vertexid]\n",
    "    \n",
    "    def route(self):\n",
    "        return self.visited"
   ]
  },
  {
   "cell_type": "code",
   "execution_count": 2,
   "metadata": {
    "collapsed": true
   },
   "outputs": [],
   "source": [
    "#we have make a minor change this time\n",
    "#we can only use topological sort on directed acyclical graph\n",
    "#we have to remove the part where vertex 1 and 3 are mutually connected\n",
    "#plz check the visualization at\n",
    "# https://github.com/tattooday/graph-theory/blob/master/preview/DAG.jpg\n",
    "a=[[1,3],\n",
    "[1,4],\n",
    "[1,5],\n",
    "[2,3],\n",
    "[3,5],\n",
    "[4,2],\n",
    "[5,6],\n",
    "[6,4]]\n",
    "\n"
   ]
  },
  {
   "cell_type": "code",
   "execution_count": 3,
   "metadata": {
    "collapsed": true
   },
   "outputs": [],
   "source": [
    "#in order to print the sorted result\n",
    "#we just add one more variable called sort\n",
    "#it is a list to keep the vertex visited in order of dfs\n",
    "#we normally put the last vertex visited at the beginning of sorted result\n",
    "#we use insert(0,start) instead of append(start)\n",
    "def dfs(df,start,sort):\n",
    "    df.visit(start)\n",
    "    sort.insert(0,start)\n",
    "    \n",
    "    print(sort)\n",
    "\n",
    "    for newpos in df.edge(start):\n",
    "        if df.go(newpos)==0:\n",
    "            dfs(df,newpos,sort)\n",
    "\n"
   ]
  },
  {
   "cell_type": "code",
   "execution_count": 4,
   "metadata": {},
   "outputs": [
    {
     "name": "stdout",
     "output_type": "stream",
     "text": [
      "topological sort starting from 1\n",
      "[1]\n",
      "[3, 1]\n",
      "[5, 3, 1]\n",
      "[6, 5, 3, 1]\n",
      "[4, 6, 5, 3, 1]\n",
      "[2, 4, 6, 5, 3, 1]\n",
      "topological sort starting from 2\n",
      "[2]\n",
      "[3, 2]\n",
      "[5, 3, 2]\n",
      "[6, 5, 3, 2]\n",
      "[4, 6, 5, 3, 2]\n",
      "topological sort starting from 3\n",
      "[3]\n",
      "[5, 3]\n",
      "[6, 5, 3]\n",
      "[4, 6, 5, 3]\n",
      "[2, 4, 6, 5, 3]\n",
      "topological sort starting from 4\n",
      "[4]\n",
      "[2, 4]\n",
      "[3, 2, 4]\n",
      "[5, 3, 2, 4]\n",
      "[6, 5, 3, 2, 4]\n",
      "topological sort starting from 5\n",
      "[5]\n",
      "[6, 5]\n",
      "[4, 6, 5]\n",
      "[2, 4, 6, 5]\n",
      "[3, 2, 4, 6, 5]\n",
      "topological sort starting from 6\n",
      "[6]\n",
      "[4, 6]\n",
      "[2, 4, 6]\n",
      "[3, 2, 4, 6]\n",
      "[5, 3, 2, 4, 6]\n"
     ]
    }
   ],
   "source": [
    "#we define dfs function first\n",
    "#we use the same loop which creates graph adt to call dfs\n",
    "#we show the result of topological sort from different vertices\n",
    "val=locals()\n",
    "for i in range(1,7):\n",
    "    val['df'+str(i)]=graph()\n",
    "    for coordinates in a:\n",
    "        val['df'+str(i)].append(coordinates[0],coordinates[1],0)\n",
    "    \n",
    "    print('topological sort starting from %d'%(i))\n",
    "    dfs(val['df'+str(i)],i,[])"
   ]
  },
  {
   "cell_type": "code",
   "execution_count": null,
   "metadata": {
    "collapsed": true
   },
   "outputs": [],
   "source": []
  },
  {
   "cell_type": "code",
   "execution_count": null,
   "metadata": {
    "collapsed": true
   },
   "outputs": [],
   "source": []
  }
 ],
 "metadata": {
  "kernelspec": {
   "display_name": "Python 3",
   "language": "python",
   "name": "python3"
  },
  "language_info": {
   "codemirror_mode": {
    "name": "ipython",
    "version": 3
   },
   "file_extension": ".py",
   "mimetype": "text/x-python",
   "name": "python",
   "nbconvert_exporter": "python",
   "pygments_lexer": "ipython3",
   "version": "3.6.2"
  }
 },
 "nbformat": 4,
 "nbformat_minor": 2
}
