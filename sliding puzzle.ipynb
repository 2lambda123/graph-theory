{
 "cells": [
  {
   "cell_type": "markdown",
   "metadata": {},
   "source": [
    "### Sliding Puzzle\n",
    "\n",
    "&nbsp;\n",
    "\n",
    "Sliding puzzle is a fun game. \n",
    "\n",
    "&nbsp;\n"
   ]
  },
  {
   "cell_type": "code",
   "execution_count": 1,
   "metadata": {},
   "outputs": [],
   "source": [
    "import copy\n",
    "import matplotlib.pyplot as plt\n",
    "import matplotlib.animation as pltani\n",
    "import os\n",
    "os.chdir('h:/')"
   ]
  },
  {
   "cell_type": "code",
   "execution_count": 2,
   "metadata": {},
   "outputs": [],
   "source": [
    "#initial status\n",
    "sliding_puzzle_init=[[5,8,2],[7,0,3],[1,4,6]]\n",
    "\n",
    "#desired result\n",
    "sliding_puzzle_final=[[1,2,3],[4,5,6],[7,8,0]]"
   ]
  },
  {
   "cell_type": "code",
   "execution_count": 3,
   "metadata": {},
   "outputs": [],
   "source": [
    "#find next possible moves and append to queue\n",
    "def check_around(current,row_id,col_id,visited,queue,pred):\n",
    "\n",
    "    #avoid left most\n",
    "    #move left tile to the right\n",
    "    if col_id!=0:\n",
    "        sliding_puzzle_next=copy.deepcopy(current)\n",
    "        exchange=sliding_puzzle_next[row_id][col_id-1]\n",
    "        sliding_puzzle_next[row_id][col_id]=exchange\n",
    "        sliding_puzzle_next[row_id][col_id-1]=0\n",
    "        \n",
    "        #visit each status once\n",
    "        #convert to string to store in dict\n",
    "        if sliding_puzzle_next not in visited and sliding_puzzle_next not in queue:\n",
    "            queue.append(sliding_puzzle_next)\n",
    "            pred[''.join([str(j) for i in sliding_puzzle_next for j in i])]=current\n",
    "\n",
    "    #avoid right most\n",
    "    #move right tile to the left\n",
    "    if col_id!=len(current[0])-1:\n",
    "        sliding_puzzle_next=copy.deepcopy(current)\n",
    "        exchange=sliding_puzzle_next[row_id][col_id+1]\n",
    "        sliding_puzzle_next[row_id][col_id]=exchange\n",
    "        sliding_puzzle_next[row_id][col_id+1]=0\n",
    "        \n",
    "        #visit each status once\n",
    "        #convert to string to store in dict\n",
    "        if sliding_puzzle_next not in visited and sliding_puzzle_next not in queue:\n",
    "            queue.append(sliding_puzzle_next)\n",
    "            pred[''.join([str(j) for i in sliding_puzzle_next for j in i])]=current\n",
    "\n",
    "    #avoid top most\n",
    "    #move top tile down\n",
    "    if row_id!=0:\n",
    "        sliding_puzzle_next=copy.deepcopy(current)\n",
    "        exchange=sliding_puzzle_next[row_id-1][col_id]\n",
    "        sliding_puzzle_next[row_id][col_id]=exchange\n",
    "        sliding_puzzle_next[row_id-1][col_id]=0\n",
    "        \n",
    "        #visit each status once\n",
    "        #convert to string to store in dict\n",
    "        if sliding_puzzle_next not in visited and sliding_puzzle_next not in queue:\n",
    "            queue.append(sliding_puzzle_next)\n",
    "            pred[''.join([str(j) for i in sliding_puzzle_next for j in i])]=current\n",
    "\n",
    "    #avoid bottom most\n",
    "    #move bottom tile up\n",
    "    if row_id!=len(current)-1:\n",
    "        sliding_puzzle_next=copy.deepcopy(current)\n",
    "        exchange=sliding_puzzle_next[row_id+1][col_id]\n",
    "        sliding_puzzle_next[row_id][col_id]=exchange\n",
    "        sliding_puzzle_next[row_id+1][col_id]=0\n",
    "        \n",
    "        #visit each status once\n",
    "        #convert to string to store in dict\n",
    "        if sliding_puzzle_next not in visited and sliding_puzzle_next not in queue:\n",
    "            queue.append(sliding_puzzle_next)\n",
    "            pred[''.join([str(j) for i in sliding_puzzle_next for j in i])]=current\n",
    "            \n",
    "    return queue,pred"
   ]
  },
  {
   "cell_type": "code",
   "execution_count": 4,
   "metadata": {},
   "outputs": [],
   "source": [
    "#solve sliding puzzle problem via bfs\n",
    "#details of bfs can be found in the following link\n",
    "# https://github.com/je-suis-tm/graph-theory/blob/master/BFS%20DFS%20on%20DCG.ipynb\n",
    "def sliding_puzzle(sliding_puzzle_init,sliding_puzzle_final):\n",
    "\n",
    "    #initialize\n",
    "    start=sliding_puzzle_init\n",
    "    stop=False\n",
    "\n",
    "    #create a queue with rule of first-in-first-out\n",
    "    queue=[]\n",
    "    queue.append(start)\n",
    "    visited=[]\n",
    "\n",
    "    #pred keeps track of how we get to the current vertex\n",
    "    pred={}\n",
    "\n",
    "    #bfs\n",
    "    while not stop:\n",
    "\n",
    "        #keep track of the visited vertices\n",
    "        current=queue.pop(0)\n",
    "        visited.append(current)\n",
    "\n",
    "        #locate the sliding tile\n",
    "        row_id=current.index([i for i in current if 0 in i][0])\n",
    "        col_id=current[row_id].index(0)\n",
    "\n",
    "        #target reached\n",
    "        if current==sliding_puzzle_final:\n",
    "            stop=True\n",
    "\n",
    "        #find next status\n",
    "        else:\n",
    "            queue,pred=check_around(current,row_id,col_id,visited,queue,pred)    \n",
    "\n",
    "        #impossible to reach target\n",
    "        if len(queue)==0:\n",
    "            stop=True\n",
    "\n",
    "    #create the path by backtracking\n",
    "    #trace the predecessor vertex from end to start\n",
    "    previous=''.join([str(j) for i in sliding_puzzle_final for j in i])\n",
    "    path=[]\n",
    "    while pred:\n",
    "        path.insert(0, previous)\n",
    "        if previous==''.join([str(j) for i in start for j in i]):\n",
    "            break\n",
    "        previous=''.join([str(j) for i in pred[previous] for j in i])\n",
    "\n",
    "    return len(path)-1,path"
   ]
  },
  {
   "cell_type": "code",
   "execution_count": 5,
   "metadata": {},
   "outputs": [],
   "source": [
    "#create animation for sliding\n",
    "def draw_sliding_puzzle(step,*args):\n",
    "\n",
    "    ax,row_num,col_num,path=args\n",
    "    ax.clear()\n",
    "    ax.axis('off')\n",
    "    \n",
    "    #viz tiles\n",
    "    for row_id in range(row_num):\n",
    "        for col_id in range(col_num):\n",
    "            ax.plot([col_id-0.5,col_id-0.5,col_id+0.5,col_id+0.5,col_id-0.5,],\n",
    "                    [-row_id-0.5,-row_id+0.5,-row_id+0.5,-row_id-0.5,-row_id-0.5,],c='k')\n",
    "            if path[step][row_id*col_num+col_id]!='0':        \n",
    "                ax.text(col_id,-row_id,path[step][row_id*col_num+col_id],\n",
    "                        ha='center',va='center',fontsize=20)\n",
    "            else:\n",
    "                ax.fill_between([col_id-0.5,col_id+0.5,],[-row_id+0.5,-row_id+0.5],\n",
    "                                [-row_id-0.5,-row_id-0.5],color='cyan')"
   ]
  },
  {
   "cell_type": "code",
   "execution_count": 6,
   "metadata": {},
   "outputs": [],
   "source": [
    "#use bfs to get path\n",
    "num_of_steps,path=sliding_puzzle(sliding_puzzle_init,sliding_puzzle_final)"
   ]
  },
  {
   "cell_type": "code",
   "execution_count": 7,
   "metadata": {},
   "outputs": [
    {
     "name": "stderr",
     "output_type": "stream",
     "text": [
      "MovieWriter ffmpeg unavailable; trying to use <class 'matplotlib.animation.PillowWriter'> instead.\n"
     ]
    },
    {
     "data": {
      "image/png": "[encoded data removed]",
      "text/plain": [
       "<Figure size 432x432 with 1 Axes>"
      ]
     },
     "metadata": {
      "needs_background": "light"
     },
     "output_type": "display_data"
    }
   ],
   "source": [
    "#viz\n",
    "row_num=len(sliding_puzzle_init)\n",
    "col_num=len(sliding_puzzle_init[0])\n",
    "fig,ax=plt.subplots(figsize=(row_num*2,col_num*2))\n",
    "\n",
    "ax.set_xlim(-1,col_num)\n",
    "ax.set_ylim(-row_num-1,0)\n",
    "ax.axis('off')\n",
    "\n",
    "#create animations\n",
    "anim=pltani.FuncAnimation(fig,draw_sliding_puzzle,\n",
    "                          frames=len(path),\n",
    "                          interval=900,\n",
    "                          fargs=(ax,row_num,col_num,path))\n",
    "anim.save('sliding puzzle.gif')"
   ]
  },
  {
   "cell_type": "code",
   "execution_count": null,
   "metadata": {},
   "outputs": [],
   "source": []
  }
 ],
 "metadata": {
  "kernelspec": {
   "display_name": "Python 3",
   "language": "python",
   "name": "python3"
  },
  "language_info": {
   "codemirror_mode": {
    "name": "ipython",
    "version": 3
   },
   "file_extension": ".py",
   "mimetype": "text/x-python",
   "name": "python",
   "nbconvert_exporter": "python",
   "pygments_lexer": "ipython3",
   "version": "3.7.6"
  },
  "toc": {
   "base_numbering": 1,
   "nav_menu": {},
   "number_sections": true,
   "sideBar": true,
   "skip_h1_title": false,
   "title_cell": "Table of Contents",
   "title_sidebar": "Contents",
   "toc_cell": false,
   "toc_position": {},
   "toc_section_display": true,
   "toc_window_display": false
  },
  "varInspector": {
   "cols": {
    "lenName": 16,
    "lenType": 16,
    "lenVar": 40
   },
   "kernels_config": {
    "python": {
     "delete_cmd_postfix": "",
     "delete_cmd_prefix": "del ",
     "library": "var_list.py",
     "varRefreshCmd": "print(var_dic_list())"
    },
    "r": {
     "delete_cmd_postfix": ") ",
     "delete_cmd_prefix": "rm(",
     "library": "var_list.r",
     "varRefreshCmd": "cat(var_dic_list()) "
    }
   },
   "types_to_exclude": [
    "module",
    "function",
    "builtin_function_or_method",
    "instance",
    "_Feature"
   ],
   "window_display": false
  }
 },
 "nbformat": 4,
 "nbformat_minor": 4
}
