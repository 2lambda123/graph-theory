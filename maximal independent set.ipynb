{
 "cells": [
  {
   "cell_type": "markdown",
   "metadata": {},
   "source": [
    "### Maximal Independent Set\n",
    "\n",
    "&nbsp;\n",
    "\n",
    "An independent set (IS) is a subset of a graph such that no two vertices inside are connected. A maximal independent set (MIS) is an IS that cannot include any extra vertices without violating the definition. A maximum independent set is one of the MIS with maximum cardinality. The definition of maximal and maximum is somehow similar to clique. MIS is somewhat connected to graph coloring as well.\n",
    "\n",
    "Reference to clique\n",
    "\n",
    "https://github.com/je-suis-tm/graph-theory/blob/master/maximal%20clique.ipynb\n",
    "\n",
    "Reference to graph coloring\n",
    "\n",
    "https://github.com/je-suis-tm/graph-theory/blob/master/graph%20coloring.ipynb"
   ]
  },
  {
   "cell_type": "code",
   "execution_count": 1,
   "metadata": {},
   "outputs": [],
   "source": [
    "import os\n",
    "os.chdir('K:/ecole/github/televerser')\n",
    "import matplotlib.pyplot as plt\n",
    "import random as rd\n",
    "import copy\n",
    "\n",
    "#graph adt\n",
    "#check the below link for more details\n",
    "# https://github.com/je-suis-tm/graph-theory/blob/master/graph.py\n",
    "import graph"
   ]
  },
  {
   "cell_type": "markdown",
   "metadata": {},
   "source": [
    "### Graph ADT"
   ]
  },
  {
   "cell_type": "code",
   "execution_count": 2,
   "metadata": {},
   "outputs": [],
   "source": [
    "#create graph adt\n",
    "#exactly the same adt in kcore, maximal clique and graph coloring\n",
    "ADT=graph.graph()\n",
    "ADT.append(1,2,0)\n",
    "ADT.append(1,3,0)\n",
    "ADT.append(1,4,0)\n",
    "ADT.append(1,6,0)\n",
    "ADT.append(2,1,0)\n",
    "ADT.append(3,1,0)\n",
    "ADT.append(4,1,0)\n",
    "ADT.append(6,1,0)\n",
    "\n",
    "ADT.append(2,3,0)\n",
    "ADT.append(2,4,0)\n",
    "ADT.append(2,6,0)\n",
    "ADT.append(3,2,0)\n",
    "ADT.append(4,2,0)\n",
    "ADT.append(6,2,0)\n",
    "\n",
    "ADT.append(3,4,0)\n",
    "ADT.append(3,7,0)\n",
    "ADT.append(4,3,0)\n",
    "ADT.append(7,3,0)\n",
    "\n",
    "ADT.append(4,5,0)\n",
    "ADT.append(5,4,0)\n",
    "\n",
    "ADT.append(5,6,0)\n",
    "ADT.append(6,5,0)"
   ]
  },
  {
   "cell_type": "code",
   "execution_count": 3,
   "metadata": {},
   "outputs": [
    {
     "data": {
      "text/plain": [
       "{1: {2: 0, 3: 0, 4: 0, 6: 0},\n",
       " 2: {1: 0, 3: 0, 4: 0, 6: 0},\n",
       " 3: {1: 0, 2: 0, 4: 0, 7: 0},\n",
       " 4: {1: 0, 2: 0, 3: 0, 5: 0},\n",
       " 6: {1: 0, 2: 0, 5: 0},\n",
       " 7: {3: 0},\n",
       " 5: {4: 0, 6: 0}}"
      ]
     },
     "execution_count": 3,
     "metadata": {},
     "output_type": "execute_result"
    }
   ],
   "source": [
    "ADT.reveal()"
   ]
  },
  {
   "cell_type": "markdown",
   "metadata": {},
   "source": [
    "![alt text](./preview/kcore1.png)"
   ]
  },
  {
   "cell_type": "markdown",
   "metadata": {},
   "source": [
    "### Fast Randomized Distributed MIS Algorithm\n",
    "\n",
    "&nbsp;\n",
    "\n",
    "There are tons of algorithms to find MIS. MIS is an NP-complete problem for computer scientists. Currently the most popular one is randomized distributed algorithm. \n",
    "\n",
    "Reference to the original paper in 2009\n",
    "\n",
    "https://www.researchgate.net/publication/220567138_An_Optimal_Bit_Complexity_Randomized_Distributed_MIS_Algorithm"
   ]
  },
  {
   "cell_type": "code",
   "execution_count": 4,
   "metadata": {},
   "outputs": [],
   "source": [
    "#fast mis algorithm after 2009\n",
    "def get_maximal_independent_set(ADT):\n",
    "    \"\"\"fast randomized algorithm to fetch one of the maximal independent sets\"\"\"\n",
    "\n",
    "    #assign random value from uniform distribution to every vertex\n",
    "    random_val=dict(zip(ADT.vertex(),\n",
    "        [rd.random() for _ in range(ADT.order())]))\n",
    "\n",
    "    #initialize\n",
    "    maximal_independent_set=[]\n",
    "    queue=[i for i in random_val]\n",
    "    \n",
    "    while len(queue)>0:\n",
    "        for node in queue:\n",
    "            \n",
    "            #select the vertex which has larger value than all of its neighbors\n",
    "            neighbor_vals=[random_val[neighbor] for neighbor in ADT.edge(node) if neighbor in random_val]\n",
    "            if len(neighbor_vals)==0 or random_val[node]<min(neighbor_vals):\n",
    "                \n",
    "                #add to mis\n",
    "                maximal_independent_set.append(node)\n",
    "                \n",
    "                #remove the vertex and its neighbors\n",
    "                queue.remove(node)\n",
    "                for neighbor in ADT.edge(node):\n",
    "                    if neighbor in queue:\n",
    "                        queue.remove(neighbor)\n",
    "        \n",
    "        #reassign random values to existing vertices\n",
    "        random_val=dict(zip(queue,\n",
    "                            [rd.random() for _ in range(len(random_val))]))\n",
    "        \n",
    "    return maximal_independent_set"
   ]
  },
  {
   "cell_type": "code",
   "execution_count": 5,
   "metadata": {},
   "outputs": [],
   "source": [
    "#run\n",
    "mis=get_maximal_independent_set(ADT)"
   ]
  },
  {
   "cell_type": "code",
   "execution_count": 6,
   "metadata": {},
   "outputs": [],
   "source": [
    "#assign coordinates for viz\n",
    "coordinates={1: (0.5, 3), 2: (0.5, 1),\n",
    " 3: (1.5, 2), 4: (2, 1),\n",
    " 5: (1, 0), 6: (0, 0), 7: (3, 3)}"
   ]
  },
  {
   "cell_type": "code",
   "execution_count": 7,
   "metadata": {},
   "outputs": [
    {
     "data": {
      "image/png": "[encoded data removed]",
      "text/plain": [
       "<Figure size 432x288 with 1 Axes>"
      ]
     },
     "metadata": {},
     "output_type": "display_data"
    }
   ],
   "source": [
    "#plot edge\n",
    "for i in ADT.vertex():\n",
    "    for j in ADT.edge(i):\n",
    "        plt.plot([coordinates[i][0],coordinates[j][0]],\n",
    "                 [coordinates[i][1],coordinates[j][1]],c='grey',alpha=0.5)\n",
    "\n",
    "#plot vertex\n",
    "plt.scatter([coordinates[i][0] for i in coordinates if i in mis],\n",
    "           [coordinates[i][1] for i in coordinates if i in mis],\n",
    "           s=500,label=\"Maximal Independent Set\",c='gold')\n",
    "plt.scatter([coordinates[i][0] for i in coordinates if i not in mis],\n",
    "           [coordinates[i][1] for i in coordinates if i not in mis],\n",
    "           s=500)\n",
    "\n",
    "#plot vertex label\n",
    "for i in coordinates:\n",
    "    plt.text(coordinates[i][0],coordinates[i][1],i,\n",
    "             va='center',ha='center',color='white',fontsize=20)\n",
    "\n",
    "#tidy up the chart\n",
    "plt.axis('off')\n",
    "plt.xticks([])\n",
    "plt.yticks([])\n",
    "plt.legend()\n",
    "plt.show()"
   ]
  },
  {
   "cell_type": "markdown",
   "metadata": {},
   "source": [
    "### Ramsey Algorithm\n",
    "\n",
    "&nbsp;\n",
    "\n",
    "Finding maximal independent set is NP-complete but finding maximum independent set (MaxIS) is NP-hard. Intuitively, the easiest way to find a MaxIS is a brute force algorithm to select MaxIS from all the MIS. `NetworkX` prefers Ramsey algorithm to approximate MaxIS. Thus, it is worth the effort to make a little introduction here as well.\n",
    "\n",
    "Reference to `NetworkX`\n",
    "\n",
    "https://networkx.org/documentation/stable/reference/algorithms/generated/networkx.algorithms.approximation.independent_set.maximum_independent_set.html#networkx.algorithms.approximation.independent_set.maximum_independent_set\n",
    "\n",
    "Reference to the original paper\n",
    " https://www.researchgate.net/publication/227294736_Approximating_Maximum_Independent_Sets_by_Excluding_Subgraphs"
   ]
  },
  {
   "cell_type": "code",
   "execution_count": 8,
   "metadata": {},
   "outputs": [],
   "source": [
    "#choice of networkx\n",
    "def ramsey(graph_adt):\n",
    "    \"\"\"Ramsey algorithm to approximate the maximum independent set\"\"\"\n",
    "\n",
    "    #base case of the recursion\n",
    "    if graph_adt.order()==0:\n",
    "        return []\n",
    "    \n",
    "    #select a random vertex\n",
    "    #this can be optimized by selecting the vertex with the smallest degree\n",
    "    selected=graph_adt.vertex()[0]\n",
    "\n",
    "    #find its neighbors and non neighbors\n",
    "    neighbors=graph_adt.edge(selected)\n",
    "    non_neighbors=[i for i in graph_adt.vertex() if i not in neighbors and i!=selected]\n",
    "\n",
    "    #create a subset which only contains its neighbors\n",
    "    subset_neighbors=copy.deepcopy(graph_adt)\n",
    "    for vertex in non_neighbors:\n",
    "        subset_neighbors.remove(vertex)\n",
    "    subset_neighbors.remove(selected)\n",
    "\n",
    "    #create a subset which only contains its non neighbors\n",
    "    subset_non_neighbors=copy.deepcopy(graph_adt)\n",
    "    for vertex in neighbors:\n",
    "        subset_non_neighbors.remove(vertex)\n",
    "    subset_non_neighbors.remove(selected)\n",
    "        \n",
    "    #recursively check other vertices\n",
    "    neighbors_mis=ramsey(subset_neighbors)\n",
    "    non_neighbors_mis=ramsey(subset_non_neighbors)\n",
    "    \n",
    "    #add to approximated maximum independent set\n",
    "    non_neighbors_mis.append(selected)\n",
    "\n",
    "    #only export the larger set between the two\n",
    "    return max(neighbors_mis,non_neighbors_mis,key=len)"
   ]
  },
  {
   "cell_type": "code",
   "execution_count": 9,
   "metadata": {},
   "outputs": [],
   "source": [
    "#run\n",
    "approximation=ramsey(ADT)"
   ]
  },
  {
   "cell_type": "code",
   "execution_count": 10,
   "metadata": {},
   "outputs": [
    {
     "data": {
      "image/png": "[encoded data removed]",
      "text/plain": [
       "<Figure size 432x288 with 1 Axes>"
      ]
     },
     "metadata": {},
     "output_type": "display_data"
    }
   ],
   "source": [
    "#plot edge\n",
    "for i in ADT.vertex():\n",
    "    for j in ADT.edge(i):\n",
    "        plt.plot([coordinates[i][0],coordinates[j][0]],\n",
    "                 [coordinates[i][1],coordinates[j][1]],c='grey',alpha=0.5)\n",
    "\n",
    "#plot vertex\n",
    "plt.scatter([coordinates[i][0] for i in coordinates if i in approximation],\n",
    "           [coordinates[i][1] for i in coordinates if i in approximation],\n",
    "           s=500,label=\"≈Maximum Independent Set\",c='red')\n",
    "plt.scatter([coordinates[i][0] for i in coordinates if i not in approximation],\n",
    "           [coordinates[i][1] for i in coordinates if i not in approximation],\n",
    "           s=500)\n",
    "\n",
    "#plot vertex label\n",
    "for i in coordinates:\n",
    "    plt.text(coordinates[i][0],coordinates[i][1],i,\n",
    "             va='center',ha='center',color='white',fontsize=20)\n",
    "\n",
    "#tidy up the chart\n",
    "plt.axis('off')\n",
    "plt.xticks([])\n",
    "plt.yticks([])\n",
    "plt.legend(loc=4)\n",
    "plt.show()"
   ]
  },
  {
   "cell_type": "code",
   "execution_count": null,
   "metadata": {},
   "outputs": [],
   "source": []
  }
 ],
 "metadata": {
  "kernelspec": {
   "display_name": "Python 3",
   "language": "python",
   "name": "python3"
  },
  "language_info": {
   "codemirror_mode": {
    "name": "ipython",
    "version": 3
   },
   "file_extension": ".py",
   "mimetype": "text/x-python",
   "name": "python",
   "nbconvert_exporter": "python",
   "pygments_lexer": "ipython3",
   "version": "3.6.5"
  },
  "latex_envs": {
   "LaTeX_envs_menu_present": true,
   "autoclose": false,
   "autocomplete": true,
   "bibliofile": "biblio.bib",
   "cite_by": "apalike",
   "current_citInitial": 1,
   "eqLabelWithNumbers": true,
   "eqNumInitial": 1,
   "hotkeys": {
    "equation": "Ctrl-E",
    "itemize": "Ctrl-I"
   },
   "labels_anchors": false,
   "latex_user_defs": false,
   "report_style_numbering": false,
   "user_envs_cfg": false
  },
  "toc": {
   "base_numbering": 1,
   "nav_menu": {},
   "number_sections": true,
   "sideBar": true,
   "skip_h1_title": false,
   "title_cell": "Table of Contents",
   "title_sidebar": "Contents",
   "toc_cell": false,
   "toc_position": {
    "height": "calc(100% - 180px)",
    "left": "10px",
    "top": "150px",
    "width": "154px"
   },
   "toc_section_display": true,
   "toc_window_display": false
  }
 },
 "nbformat": 4,
 "nbformat_minor": 2
}
