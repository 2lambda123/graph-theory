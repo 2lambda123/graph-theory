{
 "cells": [
  {
   "cell_type": "code",
   "execution_count": 1,
   "metadata": {
    "collapsed": true
   },
   "outputs": [],
   "source": [
    " class graph:\n",
    "        def __init__(self):\n",
    "            self.graph={}\n",
    "            self.visited={}\n",
    "    \n",
    "        def append(self,vertexid,edge,weight):\n",
    "            if vertexid not in self.graph.keys():          \n",
    "                self.graph[vertexid]={}\n",
    "                self.visited[vertexid]=0\n",
    "            self.graph[vertexid][edge]=weight\n",
    "            \n",
    "        def reveal(self):\n",
    "            return self.graph\n",
    "        \n",
    "        def vertex(self):\n",
    "            return list(self.graph.keys())\n",
    "    \n",
    "        def edge(self,vertexid):\n",
    "            return list(self.graph[vertexid].keys())\n",
    "        \n",
    "        def weight(self,vertexid,edge):\n",
    "            return (self.graph[vertexid][edge])\n",
    "        \n",
    "        def size(self):\n",
    "            return len(self.graph)\n",
    "        \n",
    "        def visit(self,vertexid):\n",
    "            self.visited[vertexid]=1\n",
    "            \n",
    "        def go(self,vertexid):\n",
    "            return self.visited[vertexid]\n",
    "        \n",
    "        def route(self):\n",
    "            return self.visited"
   ]
  },
  {
   "cell_type": "code",
   "execution_count": 2,
   "metadata": {
    "collapsed": true
   },
   "outputs": [],
   "source": [
    "def dijkstra(start,end,df):\n",
    "    queue=[]\n",
    "    distance={}\n",
    "    queue.append(start)\n",
    "    for i in df.vertex():\n",
    "        distance[i]=float('inf')\n",
    "    distance[start]=0    \n",
    "        \n",
    "    while queue:\n",
    "        temp=queue.pop(0)\n",
    "        \n",
    "        for j in df.edge(temp):\n",
    "            if distance[temp]+df.weight(temp,j)<distance[j]:\n",
    "                distance[j]=distance[temp]+df.weight(temp,j)\n",
    "            if df.go(j)==0 and j not in queue:\n",
    "                queue.append(j)\n",
    "            \n",
    "        df.visit(temp)\n",
    "    return distance[end]"
   ]
  },
  {
   "cell_type": "code",
   "execution_count": 3,
   "metadata": {
    "collapsed": true
   },
   "outputs": [],
   "source": [
    "def check_around(i,j):\n",
    "    for k,l in [(i-1,j),(i+1,j),(i,j-1),(i,j+1)]:\n",
    "        try:\n",
    "            if maze[k][l]!='+':\n",
    "                mazerun.append((i,j),(k,l),1)\n",
    "            \n",
    "        except IndexError:\n",
    "            pass"
   ]
  },
  {
   "cell_type": "code",
   "execution_count": 4,
   "metadata": {},
   "outputs": [
    {
     "name": "stdout",
     "output_type": "stream",
     "text": [
      "++++++++++++++++++++++\n",
      "\n",
      "+   +   ++ ++        +\n",
      "\n",
      "      +     ++++++++++\n",
      "\n",
      "+ +    ++  ++++ +++ ++\n",
      "\n",
      "+ +   + + ++    +++  +\n",
      "\n",
      "+          ++  ++  + +\n",
      "\n",
      "+++++ + +      ++  + +\n",
      "\n",
      "+++++ +++  + +  ++   +\n",
      "\n",
      "+          + + S+ +  +\n",
      "\n",
      "+++++ +  + + +     + +\n",
      "\n",
      "++++++++++++++++++++++\n"
     ]
    }
   ],
   "source": [
    "import os\n",
    "os.chdir('d:/')\n",
    "os.getcwd()\n",
    "import re\n",
    "f=open('maze.txt','r')\n",
    "m=f.readlines()\n",
    "for i in m:\n",
    "    print(i)"
   ]
  },
  {
   "cell_type": "code",
   "execution_count": 5,
   "metadata": {
    "collapsed": true
   },
   "outputs": [],
   "source": [
    "maze=[]\n",
    "for i in m:\n",
    "    maze.append(re.findall('.',i.replace('\\n','')))"
   ]
  },
  {
   "cell_type": "code",
   "execution_count": 6,
   "metadata": {
    "collapsed": true
   },
   "outputs": [],
   "source": [
    "mazerun=graph()\n",
    "for i in range(len(maze)):\n",
    "    for j in range(len(maze[0])):\n",
    "        if maze[i][j]=='S':\n",
    "            start=(i,j)\n",
    "            check_around(i,j)\n",
    "        elif maze[i][j]==' ':\n",
    "            check_around(i,j)\n",
    "            if (i==0) or (i==len(maze)-1) or (j==0) or (j==len(maze[0])-1):\n",
    "                end=(i,j)\n",
    "        else:\n",
    "            pass"
   ]
  },
  {
   "cell_type": "code",
   "execution_count": 7,
   "metadata": {},
   "outputs": [
    {
     "data": {
      "text/plain": [
       "21"
      ]
     },
     "execution_count": 7,
     "metadata": {},
     "output_type": "execute_result"
    }
   ],
   "source": [
    "dijkstra(start,end,mazerun)"
   ]
  },
  {
   "cell_type": "code",
   "execution_count": null,
   "metadata": {
    "collapsed": true
   },
   "outputs": [],
   "source": []
  },
  {
   "cell_type": "code",
   "execution_count": null,
   "metadata": {
    "collapsed": true
   },
   "outputs": [],
   "source": []
  }
 ],
 "metadata": {
  "kernelspec": {
   "display_name": "Python 3",
   "language": "python",
   "name": "python3"
  },
  "language_info": {
   "codemirror_mode": {
    "name": "ipython",
    "version": 3
   },
   "file_extension": ".py",
   "mimetype": "text/x-python",
   "name": "python",
   "nbconvert_exporter": "python",
   "pygments_lexer": "ipython3",
   "version": "3.6.2"
  }
 },
 "nbformat": 4,
 "nbformat_minor": 2
}
