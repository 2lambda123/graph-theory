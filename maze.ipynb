{
 "cells": [
  {
   "cell_type": "code",
   "execution_count": 1,
   "metadata": {
    "collapsed": true
   },
   "outputs": [],
   "source": [
    "#there are many ways to get outta a maze\n",
    "#this time, lets apply dijkstra and a* algo to the maze problem\n",
    "#cuz we intend to get outta there asap\n",
    "#otherwise, we can use bfs or dfs or other algos\n",
    "\n",
    "#details of graph adt can be found in the following link\n",
    "# https://github.com/tattooday/graph-theory/blob/master/BFS%20DFS%20on%20DCG.ipynb\n",
    "class graph:\n",
    "    def __init__(self):\n",
    "        self.graph={}\n",
    "        self.visited={}\n",
    "       \n",
    "    def append(self,vertexid,edge,weight):\n",
    "        if vertexid not in self.graph.keys():\n",
    "            self.graph[vertexid]={}\n",
    "            self.visited[vertexid]=0\n",
    "        self.graph[vertexid][edge]=weight\n",
    "\n",
    "    def reveal(self):\n",
    "        return self.graph\n",
    "\n",
    "    def vertex(self):\n",
    "        return list(self.graph.keys())\n",
    "\n",
    "    def edge(self,vertexid):\n",
    "        return list(self.graph[vertexid].keys())\n",
    "\n",
    "    def weight(self,vertexid,edge):\n",
    "        return (self.graph[vertexid][edge])\n",
    "\n",
    "    def size(self):\n",
    "        return len(self.graph)\n",
    "\n",
    "    def visit(self,vertexid):\n",
    "        self.visited[vertexid]=1\n",
    "\n",
    "    def go(self,vertexid):\n",
    "        return self.visited[vertexid]\n",
    "\n",
    "    def route(self):\n",
    "        return self.visited\n",
    "\n"
   ]
  },
  {
   "cell_type": "code",
   "execution_count": 2,
   "metadata": {
    "collapsed": true
   },
   "outputs": [],
   "source": [
    "#dijkstra is a special case of a*\n",
    "#in dijkstra, heuristic is zero\n",
    "#details of dijkstra algo could be found in the following link\n",
    "# https://github.com/tattooday/graph-theory/blob/master/dijkstra%20shortest%20path.ipynb\n",
    "\n",
    "#the more general case, a* intends to find the shortest path too\n",
    "#besides dijkstra distance, it has one more thing to calculate\n",
    "#which is called heuristic\n",
    "#it is a prediction of the steps to the end\n",
    "#there are three different ways to calculate that\n",
    "\n",
    "#the one we are gonna use is called manhattan distance\n",
    "#because we can only move up, down, left, right in the maze\n",
    "#think of the maze as street blocks in manhanttan\n",
    "#the only way for taxi from one point to another is to drive through twists and turns\n",
    "#denote start as (x,y), end as (i,j)\n",
    "#the heuristic for manhattan distance is (np.abs(x-i)+np.abs(y-j))\n",
    "#there are other two heuristic calculation\n",
    "#one is called diagonal distance\n",
    "#in order to use that, we must be able to move like a queen on the chessboard\n",
    "#we should have eight different directions to move\n",
    "#the heuristic for diagonal distance is max(np.abs(x-i),np.abs(y-j))\n",
    "#another one is called euclidean distance\n",
    "#it is like calculating the longest side of a triangle\n",
    "#in order to use that, we must be able to move whatever directions we want\n",
    "#every angle is valid for one step of move\n",
    "#the heuristic for euclidean distance is ((x-i)**2+(y-j)**2)**0.5\n",
    "\n",
    "#for a* search, we calculate both dijkstra distance and heuristic\n",
    "#we get the sum of both for each edge of a vertex\n",
    "#we append vertices with the minimum sum to the queue \n",
    "#we keep doing this just as dijkstra\n",
    "#as we have two more variables, manhattan distance and sum of both distance\n",
    "#a* would increase the space complexity\n",
    "#however, it trades space for time complexity\n",
    "#it is supposed to travel fewer vertices\n",
    "#which means it should be faster than dijkstra\n",
    "def astar(start,end,df):\n",
    "    queue=[]\n",
    "    distance={}\n",
    "    heuristic={}\n",
    "    #route is a dict of the sum of distance and heuristic\n",
    "    route={}\n",
    "    queue.append(start)\n",
    "\n",
    "    for i in df.vertex():\n",
    "        distance[i]=float('inf')\n",
    "        #manhattan distance\n",
    "        heuristic[i]=np.abs(i[0]-end[0])+np.abs(i[1]-end[1])\n",
    "\n",
    "    distance[start]=0 \n",
    "    #k is to keep track of how many vertices we have traveled\n",
    "    k=0    \n",
    "\n",
    "    while queue:\n",
    "        temp=queue.pop(0)\n",
    "        #minimum is to get the minimum sum of both distances\n",
    "        minimum=float('inf')\n",
    "\n",
    "        for j in df.edge(temp):\n",
    "            distance[j]=distance[temp]+df.weight(temp,j)\n",
    "            route[j]=distance[j]+heuristic[j]\n",
    "            if route[j]<minimum:\n",
    "                minimum=route[j]\n",
    "\n",
    "        for j in df.edge(temp):\n",
    "            #we only append unvisited and unqueued vertices\n",
    "            #note that we could have two vertices with the minimum sum\n",
    "            #that is why we use a loop to make sure all valid vertices are appended\n",
    "            if (route[j]==minimum) and (df.go(j)==0) and (j not in queue):\n",
    "                queue.append(j)\n",
    "                k+=1\n",
    "\n",
    "        df.visit(temp)\n",
    "        \n",
    "        if temp==end:\n",
    "                 break\n",
    "    \n",
    "    print('vertice travelled:',k)\n",
    "    return distance[end]\n",
    "\n",
    "\n",
    "#\n",
    "def dijkstra(start,end,df):\n",
    "    queue=[]\n",
    "    distance={}\n",
    "    queue.append(start)\n",
    "    k=0\n",
    "\n",
    "    for i in df.vertex():\n",
    "        distance[i]=float('inf')\n",
    "    \n",
    "    distance[start]=0    \n",
    "\n",
    "    while queue:\n",
    "        temp=queue.pop(0)\n",
    "        \n",
    "        for j in df.edge(temp):\n",
    "            if distance[temp]+df.weight(temp,j)<distance[j]:\n",
    "                distance[j]=distance[temp]+df.weight(temp,j)\n",
    "\n",
    "            if df.go(j)==0 and j not in queue:\n",
    "                queue.append(j)\n",
    "\n",
    "                k+=1\n",
    "\n",
    "        df.visit(temp)\n",
    "        \n",
    "        if temp==end:\n",
    "            break\n",
    "\n",
    "    print('vertice travelled:',k)\n",
    "    return distance[end]    "
   ]
  },
  {
   "cell_type": "code",
   "execution_count": 3,
   "metadata": {
    "collapsed": true
   },
   "outputs": [],
   "source": [
    "#the difficult part of a maze problem is to convert maze into a graph adt\n",
    "#assume maze is a i*j matrix\n",
    "#we can convert it into a tree or called list of list\n",
    "#lets assign coordinates to each nodes in the tree\n",
    "#the top left would be {0,0}\n",
    "#the bottom right would be (i-1,j-1)\n",
    "\n",
    "#this check_around function is designated to check nodes\n",
    "#for a node with coordinate (i,j)\n",
    "#we wanna check its upper node, lower node, left node and right node\n",
    "#which are (i-1,j),(i+1,j),(i,j-1),(i,j+1)\n",
    "#if those nodes mentioned above are not walls ('+' is wall in the maze)\n",
    "#we append those edges into the graph\n",
    "#but for boundary nodes, we wont find all four nodes near them\n",
    "#therefore, we need to exclude index error\n",
    "def check_around(i,j):\n",
    "    for k,l in [(i-1,j),(i+1,j),(i,j-1),(i,j+1)]:\n",
    "        try:\n",
    "            if maze[k][l]!='+':\n",
    "                mazerun.append((i,j),(k,l),1)\n",
    "            \n",
    "        except IndexError:\n",
    "            pass"
   ]
  },
  {
   "cell_type": "code",
   "execution_count": 4,
   "metadata": {},
   "outputs": [
    {
     "name": "stdout",
     "output_type": "stream",
     "text": [
      "++++++++++++++++++++++\n",
      "\n",
      "+   +   ++ ++        +\n",
      "\n",
      "      +     ++++++++++\n",
      "\n",
      "+ +    ++  ++++ +++ ++\n",
      "\n",
      "+ +   + + ++    +++  +\n",
      "\n",
      "+          ++  ++  + +\n",
      "\n",
      "+++++ + +      ++  + +\n",
      "\n",
      "+++++ +++  + +  ++   +\n",
      "\n",
      "+          + + S+ +  +\n",
      "\n",
      "+++++ +  + + +     + +\n",
      "\n",
      "++++++++++++++++++++++\n"
     ]
    }
   ],
   "source": [
    "#read the maze file and print\n",
    "#it can be downloaded from\n",
    "# \n",
    "import copy\n",
    "import numpy as np\n",
    "import os\n",
    "os.chdir('d:/')\n",
    "os.getcwd()\n",
    "import re\n",
    "f=open('maze.txt','r')\n",
    "m=f.readlines()\n",
    "for i in m:\n",
    "    print(i)"
   ]
  },
  {
   "cell_type": "code",
   "execution_count": 5,
   "metadata": {
    "collapsed": true
   },
   "outputs": [],
   "source": [
    "#first, lets turn this txt file into a tree\n",
    "#which is list of list\n",
    "maze=[]\n",
    "for i in m:\n",
    "    maze.append(re.findall('.',i.replace('\\n','')))"
   ]
  },
  {
   "cell_type": "code",
   "execution_count": 6,
   "metadata": {
    "collapsed": true
   },
   "outputs": [],
   "source": [
    "#for nodes in our maze tree\n",
    "#S is the starting point\n",
    "#when we find s, we set the start\n",
    "#and dont forget to append start into graph adt\n",
    "#when we find ' ', space is the valid path we can take\n",
    "#we use check_around function to add edges\n",
    "#when we find +, it is wall\n",
    "#if there is a breach on the boundary wall\n",
    "#we consider it as exit\n",
    "\n",
    "#note that we assume there is only one exit in this maze\n",
    "#we can also change the terminal to a point inside a maze\n",
    "#in that case we have to consider the situation \n",
    "#what if we cannot get to the destination\n",
    "mazerun=graph()\n",
    "for i in range(len(maze)):\n",
    "    for j in range(len(maze[0])):\n",
    "        if maze[i][j]=='S':\n",
    "            start=(i,j)\n",
    "            check_around(i,j)\n",
    "        elif maze[i][j]==' ':\n",
    "            check_around(i,j)\n",
    "            if (i==0) or (i==len(maze)-1) or (j==0) or (j==len(maze[0])-1):\n",
    "                end=(i,j)\n",
    "        else:\n",
    "            pass"
   ]
  },
  {
   "cell_type": "code",
   "execution_count": 7,
   "metadata": {},
   "outputs": [],
   "source": [
    "mazerun2=copy.deepcopy(mazerun)"
   ]
  },
  {
   "cell_type": "code",
   "execution_count": 8,
   "metadata": {},
   "outputs": [
    {
     "name": "stdout",
     "output_type": "stream",
     "text": [
      "vertice travelled: 47\n",
      "21\n",
      "vertice travelled: 85\n",
      "21\n"
     ]
    }
   ],
   "source": [
    "#even though a* traveled fewer vertices\n",
    "#dijkstra is still faster as a* has more lines of codes and one more loop\n",
    "#as the size of maze increases\n",
    "#we should be able to see the difference in execution speed of a* and dijkstra\n",
    "print(astar(start,end,mazerun))\n",
    "print(dijkstra(start,end,mazerun2))"
   ]
  },
  {
   "cell_type": "code",
   "execution_count": null,
   "metadata": {
    "collapsed": true
   },
   "outputs": [],
   "source": []
  },
  {
   "cell_type": "code",
   "execution_count": null,
   "metadata": {
    "collapsed": true
   },
   "outputs": [],
   "source": []
  },
  {
   "cell_type": "code",
   "execution_count": null,
   "metadata": {
    "collapsed": true
   },
   "outputs": [],
   "source": []
  },
  {
   "cell_type": "code",
   "execution_count": null,
   "metadata": {
    "collapsed": true
   },
   "outputs": [],
   "source": []
  }
 ],
 "metadata": {
  "kernelspec": {
   "display_name": "Python 3",
   "language": "python",
   "name": "python3"
  },
  "language_info": {
   "codemirror_mode": {
    "name": "ipython",
    "version": 3
   },
   "file_extension": ".py",
   "mimetype": "text/x-python",
   "name": "python",
   "nbconvert_exporter": "python",
   "pygments_lexer": "ipython3",
   "version": "3.6.2"
  }
 },
 "nbformat": 4,
 "nbformat_minor": 2
}
