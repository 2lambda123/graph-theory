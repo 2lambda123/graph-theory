{
 "cells": [
  {
   "cell_type": "code",
   "execution_count": 1,
   "metadata": {
    "collapsed": true
   },
   "outputs": [],
   "source": [
    "#missionaries and cannibals problem is a famous toy problem in artificial intelligence\n",
    "#details of the game could be found in the following link\n",
    "# https://en.wikipedia.org/wiki/Missionaries_and_cannibals_problem\n",
    "#we would try a bunch of different algorithms including bfs,dfs and dijkstra to get the solution\n",
    "#plz note that this answer is not the only solution\n",
    "\n",
    "#details of graph adt can be found in the following link\n",
    "# https://github.com/je-suis-tm/graph-theory/blob/master/BFS%20DFS%20on%20DCG.ipynb\n",
    "class graph:\n",
    "        def __init__(self):\n",
    "            self.graph={}\n",
    "            self.visited={}\n",
    "    \n",
    "        def append(self,vertexid,edge,weight):\n",
    "            if vertexid not in self.graph.keys():          \n",
    "                self.graph[vertexid]={}\n",
    "                self.visited[vertexid]=0\n",
    "            self.graph[vertexid][edge]=weight\n",
    "            \n",
    "        def reveal(self):\n",
    "            return self.graph\n",
    "        \n",
    "        def vertex(self):\n",
    "            return list(self.graph.keys())\n",
    "    \n",
    "        def edge(self,vertexid):\n",
    "            return list(self.graph[vertexid].keys())\n",
    "        \n",
    "        def weight(self,vertexid,edge):\n",
    "            return (self.graph[vertexid][edge])\n",
    "        \n",
    "        def size(self):\n",
    "            return len(self.graph)\n",
    "        \n",
    "        def visit(self,vertexid):\n",
    "            self.visited[vertexid]=1\n",
    "            \n",
    "        def go(self,vertexid):\n",
    "            return self.visited[vertexid]\n",
    "        \n",
    "        def route(self):\n",
    "            return self.visited"
   ]
  },
  {
   "cell_type": "code",
   "execution_count": 2,
   "metadata": {
    "collapsed": true
   },
   "outputs": [],
   "source": [
    "#details of dijkstra algo could be found in the following link\n",
    "# https://github.com/je-suis-tm/graph-theory/blob/master/dijkstra%20shortest%20path.ipynb\n",
    "def dijkstra(df,start,end):\n",
    "    queue={}\n",
    "    distance={}\n",
    "    queue[start]=0\n",
    "    pred={}\n",
    "\n",
    "    for i in df.vertex():\n",
    "        distance[i]=float('inf')\n",
    "    distance[start]=0    \n",
    "        \n",
    "    while queue:\n",
    "        temp=min(queue,key=queue.get)\n",
    "        queue.pop(temp)\n",
    "        for j in df.edge(temp):\n",
    "            if distance[temp]+df.weight(temp,j)<distance[j]:\n",
    "                distance[j]=distance[temp]+df.weight(temp,j)\n",
    "                pred[j]=temp\n",
    "                \n",
    "            if df.go(j)==0 and j not in queue:\n",
    "                queue[j]=distance[j]\n",
    "            \n",
    "        df.visit(temp)\n",
    "        if temp==end:\n",
    "            break\n",
    "    \n",
    "    k=end\n",
    "    path=[]\n",
    "    while pred:\n",
    "        path.insert(0,k)\n",
    "        if k==start:\n",
    "            break\n",
    "        k=pred[k]\n",
    "        \n",
    "    return distance[end],path\n",
    "\n",
    "#details of bfs and dfs can be found in the following link\n",
    "# https://github.com/je-suis-tm/graph-theory/blob/master/BFS%20DFS%20on%20DCG.ipynb\n",
    "def bfs(df,start,end):\n",
    "    queue=[]\n",
    "    queue.append(start)\n",
    "    pred={}\n",
    "    c=0\n",
    "    \n",
    "    while queue:\n",
    "        temp=queue.pop(0)\n",
    "        df.visit(temp)\n",
    "        for newpos in df.edge(temp):\n",
    "            if df.go(newpos)==0 and newpos not in queue:\n",
    "                queue.append(newpos)\n",
    "                pred[newpos]=temp\n",
    "                \n",
    "        if temp==end:\n",
    "            break\n",
    "        \n",
    "        c+=1\n",
    "        \n",
    "    k=end\n",
    "    path=[]\n",
    "    while pred:\n",
    "        path.insert(0,k)\n",
    "        if k==start:\n",
    "            break\n",
    "        k=pred[k]\n",
    "        \n",
    "    return len(path)-1,path\n",
    "\n",
    "\n",
    "#\n",
    "def dfs_itr(df,start,end):\n",
    "    queue=[]\n",
    "    queue.append(start)\n",
    "    pred={}\n",
    "    c=0\n",
    "    \n",
    "    while queue:\n",
    "        temp=queue.pop(0)\n",
    "        smallq=[]\n",
    "        df.visit(temp)\n",
    "        for newpos in df.edge(temp):\n",
    "            if df.go(newpos)==0:\n",
    "                if newpos in queue:\n",
    "                    queue.remove(newpos)\n",
    "                smallq.append(newpos)\n",
    "                pred[newpos]=temp\n",
    "                \n",
    "        queue=smallq+queue\n",
    "        \n",
    "        if temp==end:\n",
    "            break\n",
    "        \n",
    "        c+=1\n",
    "        \n",
    "    k=end\n",
    "    path=[]\n",
    "    while pred:\n",
    "        path.insert(0,k)\n",
    "        if k==start:\n",
    "            break\n",
    "        k=pred[k]\n",
    "        \n",
    "    return len(path)-1,path"
   ]
  },
  {
   "cell_type": "code",
   "execution_count": 3,
   "metadata": {
    "collapsed": true
   },
   "outputs": [],
   "source": [
    "#the tricky part is to convert the possibilities into a graph structure\n",
    "#denote a vertex (a,b,c,d,e)\n",
    "#a is the number of cannibals on left bank\n",
    "#b is the number of missionaries on left bank\n",
    "#c is the number of cannibals on right bank\n",
    "#d is the number of missionaries on right bank\n",
    "#e is the location of a boat\n",
    "#denote 0 as the boat is on left bank\n",
    "#1 as the boat is on right bank\n",
    "#what we intend to do is to build up all the possible occasions as vertices\n",
    "#and convert the valid moves from one status to another into edges\n",
    "#weights are 1 for the purpose of dijkstra\n",
    "\n",
    "#validate function is to validate the status\n",
    "#for either bank, number of missionaries cannot be smaller than number of cannibals\n",
    "#and number of missionaries or cannibals for either bank cannot be negative\n",
    "#the reason of negative numbers can be seen in In[5]\n",
    "def validate(a,b,c,d):\n",
    "    if a<0 or b<0 or c<0 or d<0:\n",
    "        return False\n",
    "    if (a>b and b!=0) or (c>d and d!=0):\n",
    "        return False\n",
    "    else:\n",
    "        return True"
   ]
  },
  {
   "cell_type": "code",
   "execution_count": 4,
   "metadata": {
    "collapsed": true
   },
   "outputs": [],
   "source": [
    "df=graph()"
   ]
  },
  {
   "cell_type": "code",
   "execution_count": 5,
   "metadata": {
    "collapsed": true
   },
   "outputs": [],
   "source": [
    "#to build up vertices\n",
    "#lets split all the possibilities in two\n",
    "#when the boat is on left bank and on right bank\n",
    "#when the boat is on left bank, all valid edges should be the boat is on right bank\n",
    "#cuz we wanna ship people from left to right and ship cant move by itself\n",
    "#vice versa\n",
    "\n",
    "#lets look at the occasion when when the boat is on left bank\n",
    "#denote i as number of cannibals on left bank\n",
    "#denote j as number of missionaries on left bank\n",
    "#and 3-i is apparently the number of cannibals on right bank\n",
    "#cuz the sum of cannibals is 3\n",
    "#the same idea applies to missionaries\n",
    "#this way would save us a lot of time from iterations\n",
    "#and the valid edges should be the boat from left bank to right bank\n",
    "#which is 0 to 1\n",
    "\n",
    "#the boat can only carry two people\n",
    "#there are five possible occasions for crossing river\n",
    "#only one person on boat, carry one cannibal, carry one missionary\n",
    "#two people on boat, carry two cannibals, carry two missionaries, carry one cannibal and one missionary\n",
    "#for instance, the maths representation of carry two cannibals is\n",
    "#from (i,j,3-i,3-j,0) to (i-2,j,3-i+2,3-j,1)\n",
    "#two cannibals are extracted from left bank and added to the right bank\n",
    "#missionaries for both banks stay the same\n",
    "#the boat changes from 0 to 1\n",
    "\n",
    "#we use validate function to ensure that cannibals would not outnumber missionaries\n",
    "#after that we add edges to the graph for when the boat is on left bank\n",
    "for i in range(0,4):\n",
    "    for j in range(0,4):\n",
    "        if validate(i-2,j,3-i+2,3-j):\n",
    "            df.append((i,j,3-i,3-j,0),(i-2,j,3-i+2,3-j,1),1)\n",
    "        if validate(i,j-2,3-i,3-j+2):\n",
    "            df.append((i,j,3-i,3-j,0),(i,j-2,3-i,3-j+2,1),1)\n",
    "        if validate(i-1,j-1,3-i+1,3-j+1):\n",
    "            df.append((i,j,3-i,3-j,0),(i-1,j-1,3-i+1,3-j+1,1),1)\n",
    "        if validate(i-1,j,3-i+1,3-j):\n",
    "            df.append((i,j,3-i,3-j,0),(i-1,j,3-i+1,3-j,1),1)\n",
    "        if validate(i,j-1,3-i,3-j+1):\n",
    "            df.append((i,j,3-i,3-j,0),(i,j-1,3-i,3-j+1,1),1)\n",
    "            \n",
    "#vice versa\n",
    "for i in range(0,4):\n",
    "    for j in range(0,4):\n",
    "        if validate(i+1,j,3-i-1,3-j):\n",
    "            df.append((i,j,3-i,3-j,1),(i+1,j,3-i-1,3-j,0),1)\n",
    "        if validate(i,j+1,3-i,3-j-1):\n",
    "            df.append((i,j,3-i,3-j,1),(i,j+1,3-i,3-j-1,0),1)\n",
    "        if validate(i+2,j,3-i-2,3-j):\n",
    "            df.append((i,j,3-i,3-j,1),(i+2,j,3-i-2,3-j,0),1)\n",
    "        if validate(i,j+2,3-i,3-j-2):\n",
    "            df.append((i,j,3-i,3-j,1),(i,j+2,3-i,3-j-2,0),1)\n",
    "        if validate(i+1,j+1,3-i-1,3-j-1):\n",
    "            df.append((i,j,3-i,3-j,1),(i+1,j+1,3-i-1,3-j-1,0),1)"
   ]
  },
  {
   "cell_type": "code",
   "execution_count": 6,
   "metadata": {},
   "outputs": [],
   "source": [
    "#we use deep copy to create copies of graph adt for other algo tests\n",
    "import copy\n",
    "df1=copy.deepcopy(df)\n",
    "df2=copy.deepcopy(df)\n"
   ]
  },
  {
   "cell_type": "code",
   "execution_count": 7,
   "metadata": {},
   "outputs": [
    {
     "name": "stdout",
     "output_type": "stream",
     "text": [
      "(11, [(3, 3, 0, 0, 0), (1, 3, 2, 0, 1), (2, 3, 1, 0, 0), (0, 3, 3, 0, 1), (1, 3, 2, 0, 0), (1, 1, 2, 2, 1), (2, 2, 1, 1, 0), (2, 0, 1, 3, 1), (3, 0, 0, 3, 0), (1, 0, 2, 3, 1), (2, 0, 1, 3, 0), (0, 0, 3, 3, 1)])\n",
      "dijkstra: 0\n"
     ]
    }
   ],
   "source": [
    "import datetime as dt\n",
    "\n",
    "t1=dt.datetime.now()\n",
    "print(dijkstra(df,(3,3,0,0,0),(0,0,3,3,1)))\n",
    "t2=dt.datetime.now()\n",
    "print('dijkstra:',(t2-t1).microseconds)"
   ]
  },
  {
   "cell_type": "code",
   "execution_count": 8,
   "metadata": {},
   "outputs": [
    {
     "name": "stdout",
     "output_type": "stream",
     "text": [
      "(11, [(3, 3, 0, 0, 0), (1, 3, 2, 0, 1), (2, 3, 1, 0, 0), (0, 3, 3, 0, 1), (1, 3, 2, 0, 0), (1, 1, 2, 2, 1), (2, 2, 1, 1, 0), (2, 0, 1, 3, 1), (3, 0, 0, 3, 0), (1, 0, 2, 3, 1), (2, 0, 1, 3, 0), (0, 0, 3, 3, 1)])\n",
      "bfs: 0\n"
     ]
    }
   ],
   "source": [
    "t1=dt.datetime.now()\n",
    "print(bfs(df1,(3,3,0,0,0),(0,0,3,3,1)))\n",
    "t2=dt.datetime.now()\n",
    "print('bfs:',(t2-t1).microseconds)"
   ]
  },
  {
   "cell_type": "code",
   "execution_count": 9,
   "metadata": {},
   "outputs": [
    {
     "name": "stdout",
     "output_type": "stream",
     "text": [
      "(11, [(3, 3, 0, 0, 0), (1, 3, 2, 0, 1), (2, 3, 1, 0, 0), (0, 3, 3, 0, 1), (1, 3, 2, 0, 0), (1, 1, 2, 2, 1), (2, 2, 1, 1, 0), (2, 0, 1, 3, 1), (3, 0, 0, 3, 0), (1, 0, 2, 3, 1), (2, 0, 1, 3, 0), (0, 0, 3, 3, 1)])\n",
      "dfs: 0\n"
     ]
    }
   ],
   "source": [
    "t1=dt.datetime.now()\n",
    "print(dfs_itr(df2,(3,3,0,0,0),(0,0,3,3,1)))\n",
    "t2=dt.datetime.now()\n",
    "print('dfs:',(t2-t1).microseconds)"
   ]
  },
  {
   "cell_type": "code",
   "execution_count": null,
   "metadata": {},
   "outputs": [],
   "source": []
  },
  {
   "cell_type": "code",
   "execution_count": null,
   "metadata": {
    "collapsed": true
   },
   "outputs": [],
   "source": []
  }
 ],
 "metadata": {
  "kernelspec": {
   "display_name": "Python 3",
   "language": "python",
   "name": "python3"
  },
  "language_info": {
   "codemirror_mode": {
    "name": "ipython",
    "version": 3
   },
   "file_extension": ".py",
   "mimetype": "text/x-python",
   "name": "python",
   "nbconvert_exporter": "python",
   "pygments_lexer": "ipython3",
   "version": "3.6.2"
  }
 },
 "nbformat": 4,
 "nbformat_minor": 2
}
