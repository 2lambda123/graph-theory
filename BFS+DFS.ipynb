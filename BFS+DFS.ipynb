{
 "cells": [
  {
   "cell_type": "code",
   "execution_count": 1,
   "metadata": {
    "collapsed": true
   },
   "outputs": [],
   "source": [
    "class graph:\n",
    "    def __init__(self):\n",
    "        self.graph={}\n",
    "        self.visited={}\n",
    "\n",
    "    def append(self,vertexid,edge,weight):\n",
    "        if vertexid not in self.graph.keys():          \n",
    "            self.graph[vertexid]={}\n",
    "            self.visited[vertexid]=0\n",
    "        self.graph[vertexid][edge]=weight\n",
    "        \n",
    "    \n",
    "    def reveal(self):\n",
    "        return self.graph\n",
    "    \n",
    "    def vertex(self):\n",
    "        return list(self.graph.keys())\n",
    "\n",
    "    def edge(self,vertexid):\n",
    "        return list(self.graph[vertexid].keys())\n",
    "    \n",
    "    def weight(self,vertexid,edge):\n",
    "        return (self.graph[vertexid][edge])\n",
    "    \n",
    "    def size(self):\n",
    "        return len(self.graph)\n",
    "    \n",
    "    def visit(self,vertexid):\n",
    "        self.visited[vertexid]=1\n",
    "        \n",
    "    def go(self,vertexid):\n",
    "        return self.visited[vertexid]\n",
    "    \n",
    "    def route(self):\n",
    "        return self.visited"
   ]
  },
  {
   "cell_type": "code",
   "execution_count": 2,
   "metadata": {
    "collapsed": true
   },
   "outputs": [],
   "source": [
    "a=[[1,3],\n",
    "[1,4],\n",
    "[1,5],\n",
    "[2,3],\n",
    "[3,1],\n",
    "[3,5],\n",
    "[4,2],\n",
    "[5,6],\n",
    "[6,4]]\n",
    "\n",
    "val=locals()\n",
    "for i in range(1,3):\n",
    "    val['df'+str(i)]=graph()\n",
    "    for coordinates in a:\n",
    "        val['df'+str(i)].append(coordinates[0],coordinates[1],0)"
   ]
  },
  {
   "cell_type": "code",
   "execution_count": 3,
   "metadata": {
    "collapsed": true
   },
   "outputs": [],
   "source": [
    "def dfs(df,start):\n",
    "    df.visit(start)\n",
    "    print(df.route())\n",
    "\n",
    "    for newpos in df.edge(start):\n",
    "        if df.go(newpos)==0:\n",
    "            dfs(df,newpos)"
   ]
  },
  {
   "cell_type": "code",
   "execution_count": 4,
   "metadata": {
    "collapsed": true
   },
   "outputs": [],
   "source": [
    "def bfs(df,start):\n",
    "    \n",
    "    temp=[]\n",
    "    temp.append(start)\n",
    "    \n",
    "    while temp:\n",
    "        x=temp.pop(0)\n",
    "        df.visit(x)\n",
    "        \n",
    "        print(df.route())\n",
    "        for newpos in df.edge(x):\n",
    "            if df.go(newpos)==0 and newpos not in temp:\n",
    "                temp.append(newpos)"
   ]
  },
  {
   "cell_type": "code",
   "execution_count": 5,
   "metadata": {},
   "outputs": [
    {
     "name": "stdout",
     "output_type": "stream",
     "text": [
      "{1: 1, 2: 0, 3: 0, 4: 0, 5: 0, 6: 0}\n",
      "{1: 1, 2: 0, 3: 1, 4: 0, 5: 0, 6: 0}\n",
      "{1: 1, 2: 0, 3: 1, 4: 1, 5: 0, 6: 0}\n",
      "{1: 1, 2: 0, 3: 1, 4: 1, 5: 1, 6: 0}\n",
      "{1: 1, 2: 1, 3: 1, 4: 1, 5: 1, 6: 0}\n",
      "{1: 1, 2: 1, 3: 1, 4: 1, 5: 1, 6: 1}\n"
     ]
    }
   ],
   "source": [
    "bfs(df1,1)"
   ]
  },
  {
   "cell_type": "code",
   "execution_count": 6,
   "metadata": {},
   "outputs": [
    {
     "name": "stdout",
     "output_type": "stream",
     "text": [
      "{1: 1, 2: 0, 3: 0, 4: 0, 5: 0, 6: 0}\n",
      "{1: 1, 2: 0, 3: 1, 4: 0, 5: 0, 6: 0}\n",
      "{1: 1, 2: 0, 3: 1, 4: 0, 5: 1, 6: 0}\n",
      "{1: 1, 2: 0, 3: 1, 4: 0, 5: 1, 6: 1}\n",
      "{1: 1, 2: 0, 3: 1, 4: 1, 5: 1, 6: 1}\n",
      "{1: 1, 2: 1, 3: 1, 4: 1, 5: 1, 6: 1}\n"
     ]
    }
   ],
   "source": [
    "dfs(df2,1)"
   ]
  },
  {
   "cell_type": "code",
   "execution_count": null,
   "metadata": {
    "collapsed": true
   },
   "outputs": [],
   "source": []
  }
 ],
 "metadata": {
  "kernelspec": {
   "display_name": "Python 3",
   "language": "python",
   "name": "python3"
  },
  "language_info": {
   "codemirror_mode": {
    "name": "ipython",
    "version": 3
   },
   "file_extension": ".py",
   "mimetype": "text/x-python",
   "name": "python",
   "nbconvert_exporter": "python",
   "pygments_lexer": "ipython3",
   "version": "3.6.2"
  }
 },
 "nbformat": 4,
 "nbformat_minor": 2
}
