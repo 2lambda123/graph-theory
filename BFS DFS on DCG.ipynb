{
 "cells": [
  {
   "cell_type": "code",
   "execution_count": 1,
   "metadata": {
    "collapsed": true
   },
   "outputs": [],
   "source": [
    "#this repo is about graph theory\n",
    "#the first two algos are bfs and dfs\n",
    "#breath first search and depth first search\n",
    "#plz refer to the website below for details\n",
    "# http://interactivepython.org/runestone/static/pythonds/Graphs/toctree.html\n",
    "\n",
    "#first of first, we gotta build up the datatype\n",
    "#this one is called graph\n",
    "#actually its just dictionaries inside dictionaries\n",
    "#we use keys to store vertices and edges, we use values to store weights\n",
    "class graph:\n",
    "    def __init__(self):\n",
    "        self.graph={}\n",
    "        #graph is the abstract date type\n",
    "        #visited is just a helper to visualize which vertex we are visiting rn\n",
    "        self.visited={}\n",
    "\n",
    "        #if there is no existed vertex id\n",
    "        #we create a new dictionary and add edges and weights\n",
    "        #else we simply update edges and weights\n",
    "    def append(self,vertexid,edge,weight):\n",
    "        if vertexid not in self.graph.keys():          \n",
    "            self.graph[vertexid]={}\n",
    "            self.visited[vertexid]=0\n",
    "        self.graph[vertexid][edge]=weight\n",
    "        \n",
    "    #this is to show graph adt\n",
    "    def reveal(self):\n",
    "        return self.graph\n",
    "    \n",
    "    def vertex(self):\n",
    "        return list(self.graph.keys())\n",
    "\n",
    "    def edge(self,vertexid):\n",
    "        return list(self.graph[vertexid].keys())\n",
    "    \n",
    "    def weight(self,vertexid,edge):\n",
    "        return (self.graph[vertexid][edge])\n",
    "    \n",
    "    def size(self):\n",
    "        return len(self.graph)\n",
    "    \n",
    "    #this is to show that we have visited this vertex\n",
    "    def visit(self,vertexid):\n",
    "        self.visited[vertexid]=1\n",
    "    \n",
    "    #this is to check whether that vertex has been visited\n",
    "    def go(self,vertexid):\n",
    "        return self.visited[vertexid]\n",
    "    \n",
    "    #this is the visualization of our traversal on graph adt\n",
    "    def route(self):\n",
    "        return self.visited"
   ]
  },
  {
   "cell_type": "code",
   "execution_count": 2,
   "metadata": {},
   "outputs": [],
   "source": [
    "#now we create a dcg\n",
    "#a directed cyclical graph\n",
    "#it is both directed and cyclical\n",
    "a=[[1,3],\n",
    "[1,4],\n",
    "[1,5],\n",
    "[2,3],\n",
    "[3,1],\n",
    "[3,5],\n",
    "[4,2],\n",
    "[5,6],\n",
    "[6,4]]\n",
    "\n",
    "#lets use loop to create multiple graph adt\n",
    "val=locals()\n",
    "for i in range(1,4):\n",
    "    val['df'+str(i)]=graph()\n",
    "    for coordinates in a:\n",
    "        val['df'+str(i)].append(coordinates[0],coordinates[1],0)"
   ]
  },
  {
   "cell_type": "markdown",
   "metadata": {},
   "source": [
    "<img src="./preview/DCG.jpg">"
   ]
  },
  {
   "cell_type": "code",
   "execution_count": 3,
   "metadata": {
    "collapsed": true
   },
   "outputs": [],
   "source": [
    "#lets come to dfs\n",
    "#dfs explores the vertexs first edge\n",
    "#it moves to the next vertex\n",
    "#it explores the first edge of the next vertex\n",
    "#it moves to the third vertex\n",
    "#it keeps repeating the process again and again\n",
    "#until it reaches somewhere it has visited before\n",
    "#it would move back to the parent vertex\n",
    "#and check the second edge to go deeper\n",
    "#by concept, we have to use recursion to do it\n",
    "\n",
    "def dfs(df,start):\n",
    "    #we put visit function at the beginning\n",
    "    #instead of the loop part\n",
    "    #so that we can add starting vertex to our visit list\n",
    "    df.visit(start)\n",
    "    #visualizing where we have visited\n",
    "    print(df.route())\n",
    "\n",
    "    #the loop is the part where it reaches somewhere it has visited before\n",
    "    #it has to move back to the parent vertex\n",
    "    #and check the next edge to go deeper\n",
    "    for newpos in df.edge(start):\n",
    "        #if the vertex hasnt been visited\n",
    "        #we call dfs recursively\n",
    "        if df.go(newpos)==0:\n",
    "            dfs(df,newpos)"
   ]
  },
  {
   "cell_type": "code",
   "execution_count": 4,
   "metadata": {
    "collapsed": true
   },
   "outputs": [],
   "source": [
    "#bfs is different\n",
    "#instead of going deep until it hits the wall\n",
    "#it checks all sibling vertices first\n",
    "#then moves down to child vertices\n",
    "#then grandchild vertices, etc\n",
    "#if the vertex has been visited\n",
    "#it simply skips that vertex\n",
    "\n",
    "def bfs(df,start):\n",
    "    #to check siblings first children next\n",
    "    #we have to use a list or a queue\n",
    "    #we use a first in first out rule here\n",
    "    #when the list is not empty\n",
    "    #we pop the first item in\n",
    "    #we explore that vertex\n",
    "    #and append its edges back to list\n",
    "    #if any child vertices have been visited\n",
    "    #we simply skip them and dont append them\n",
    "    queue=[]\n",
    "    queue.append(start)\n",
    "    \n",
    "    while queue:\n",
    "        temp=queue.pop(0)\n",
    "        df.visit(temp)\n",
    "        #visualizing where we have visited\n",
    "        print(df.route())\n",
    "        for newpos in df.edge(temp):\n",
    "            #besides the condition of visited\n",
    "            #we wanna make sure the vertex hasnt been in the list yet\n",
    "            #this condition wont have much impact on the result\n",
    "            #it just makes the algo more efficient\n",
    "            #to avoid appending the same vertex into the list twice\n",
    "            if df.go(newpos)==0 and newpos not in queue:\n",
    "                queue.append(newpos)"
   ]
  },
  {
   "cell_type": "code",
   "execution_count": 5,
   "metadata": {},
   "outputs": [
    {
     "name": "stdout",
     "output_type": "stream",
     "text": [
      "{1: 1, 2: 0, 3: 0, 4: 0, 5: 0, 6: 0}\n",
      "{1: 1, 2: 0, 3: 1, 4: 0, 5: 0, 6: 0}\n",
      "{1: 1, 2: 0, 3: 1, 4: 1, 5: 0, 6: 0}\n",
      "{1: 1, 2: 0, 3: 1, 4: 1, 5: 1, 6: 0}\n",
      "{1: 1, 2: 1, 3: 1, 4: 1, 5: 1, 6: 0}\n",
      "{1: 1, 2: 1, 3: 1, 4: 1, 5: 1, 6: 1}\n"
     ]
    }
   ],
   "source": [
    "bfs(df1,1)"
   ]
  },
  {
   "cell_type": "code",
   "execution_count": 6,
   "metadata": {},
   "outputs": [
    {
     "name": "stdout",
     "output_type": "stream",
     "text": [
      "{1: 1, 2: 0, 3: 0, 4: 0, 5: 0, 6: 0}\n",
      "{1: 1, 2: 0, 3: 1, 4: 0, 5: 0, 6: 0}\n",
      "{1: 1, 2: 0, 3: 1, 4: 0, 5: 1, 6: 0}\n",
      "{1: 1, 2: 0, 3: 1, 4: 0, 5: 1, 6: 1}\n",
      "{1: 1, 2: 0, 3: 1, 4: 1, 5: 1, 6: 1}\n",
      "{1: 1, 2: 1, 3: 1, 4: 1, 5: 1, 6: 1}\n"
     ]
    }
   ],
   "source": [
    "dfs(df2,1)"
   ]
  },
  {
   "cell_type": "code",
   "execution_count": 7,
   "metadata": {
    "collapsed": true
   },
   "outputs": [],
   "source": [
    "#this is non recursive dfs\n",
    "#the general structure is very similar to bfs\n",
    "#the only difference is we introduce a small queue called smallq\n",
    "#small queue contains all child nodes of current node\n",
    "#we put elements of small queue at the beginning of queue in exact order\n",
    "#in this way, when queue pops the first item\n",
    "#it would be the first child node of the previous node\n",
    "\n",
    "#dfs iteration is the same idea of dfs recursion\n",
    "#it trades time complexity for space complexity\n",
    "#it is not as graceful as recursive call\n",
    "#but it runs faster for a large graph adt\n",
    "def dfs_itr(df,start):\n",
    "    queue=[]\n",
    "    queue.append(start)\n",
    "    \n",
    "    while queue:\n",
    "        temp=queue.pop(0)\n",
    "        smallq=[]\n",
    "        df.visit(temp)\n",
    "        print(df.route())\n",
    "        for newpos in df.edge(temp):\n",
    "            if df.go(newpos)==0:\n",
    "                #if the child node has already been in queue\n",
    "                #we wanna prioritize it in queue\n",
    "                #as child nodes should be visited earlier than sibling nodes\n",
    "                #this is purely dfs rule\n",
    "                #thus, we remove the child node from queue and append it to smallq\n",
    "                if newpos in queue:\n",
    "                    queue.remove(newpos)\n",
    "                smallq.append(newpos)\n",
    "                \n",
    "        queue=smallq+queue"
   ]
  },
  {
   "cell_type": "code",
   "execution_count": 8,
   "metadata": {},
   "outputs": [
    {
     "name": "stdout",
     "output_type": "stream",
     "text": [
      "{1: 1, 2: 0, 3: 0, 4: 0, 5: 0, 6: 0}\n",
      "{1: 1, 2: 0, 3: 1, 4: 0, 5: 0, 6: 0}\n",
      "{1: 1, 2: 0, 3: 1, 4: 0, 5: 1, 6: 0}\n",
      "{1: 1, 2: 0, 3: 1, 4: 0, 5: 1, 6: 1}\n",
      "{1: 1, 2: 0, 3: 1, 4: 1, 5: 1, 6: 1}\n",
      "{1: 1, 2: 1, 3: 1, 4: 1, 5: 1, 6: 1}\n"
     ]
    }
   ],
   "source": [
    "#the result is exactly the same as dfs recursion\n",
    "dfs_itr(df3,1)"
   ]
  },
  {
   "cell_type": "code",
   "execution_count": null,
   "metadata": {
    "collapsed": true
   },
   "outputs": [],
   "source": []
  }
 ],
 "metadata": {
  "kernelspec": {
   "display_name": "Python 3",
   "language": "python",
   "name": "python3"
  },
  "language_info": {
   "codemirror_mode": {
    "name": "ipython",
    "version": 3
   },
   "file_extension": ".py",
   "mimetype": "text/x-python",
   "name": "python",
   "nbconvert_exporter": "python",
   "pygments_lexer": "ipython3",
   "version": "3.6.4"
  }
 },
 "nbformat": 4,
 "nbformat_minor": 2
}
