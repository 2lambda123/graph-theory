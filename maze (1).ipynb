{
 "cells": [
  {
   "cell_type": "code",
   "execution_count": 1,
   "metadata": {
    "collapsed": true
   },
   "outputs": [],
   "source": [
    "#details of graph adt can be found in the following link\n",
    "# https://github.com/tattooday/graph-theory/blob/master/BFS%20DFS%20on%20DCG.ipynb\n",
    "class graph:\n",
    "    def __init__(self):\n",
    "        self.graph={}\n",
    "        self.visited={}\n",
    "       \n",
    "    def append(self,vertexid,edge,weight):\n",
    "        if vertexid not in self.graph.keys():\n",
    "            self.graph[vertexid]={}\n",
    "            self.visited[vertexid]=0\n",
    "        self.graph[vertexid][edge]=weight\n",
    "\n",
    "    def reveal(self):\n",
    "        return self.graph\n",
    "\n",
    "    def vertex(self):\n",
    "        return list(self.graph.keys())\n",
    "\n",
    "    def edge(self,vertexid):\n",
    "        return list(self.graph[vertexid].keys())\n",
    "\n",
    "    def weight(self,vertexid,edge):\n",
    "        return (self.graph[vertexid][edge])\n",
    "\n",
    "    def size(self):\n",
    "        return len(self.graph)\n",
    "\n",
    "    def visit(self,vertexid):\n",
    "        self.visited[vertexid]=1\n",
    "\n",
    "    def go(self,vertexid):\n",
    "        return self.visited[vertexid]\n",
    "\n",
    "    def route(self):\n",
    "        return self.visited\n",
    "\n"
   ]
  },
  {
   "cell_type": "code",
   "execution_count": 2,
   "metadata": {
    "collapsed": true
   },
   "outputs": [],
   "source": [
    "#details of bfs and dfs can be found in the following link\n",
    "# https://github.com/tattooday/graph-theory/blob/master/BFS%20DFS%20on%20DCG.ipynb\n",
    "#only minor modifications have been made here\n",
    "#we add end variable to stop the function when we reach the exit of a maze\n",
    "#we use k variable to keep track of how many vertices we have traveled\n",
    "#unlike dijkstra or a*, bfs and dfs cannot give the shortest way outta a maze\n",
    "#details of a* and dijkstra on maze can be found in the following link\n",
    "# https://github.com/tattooday/graph-theory/blob/master/a_star%20maze.ipynb\n",
    "def bfs(df,start,end):\n",
    "    queue=[]\n",
    "    queue.append(start)\n",
    "    k=0\n",
    "    \n",
    "    while queue:\n",
    "        temp=queue.pop(0)\n",
    "        df.visit(temp)\n",
    "        for newpos in df.edge(temp):\n",
    "            if df.go(newpos)==0 and newpos not in queue:\n",
    "                queue.append(newpos)\n",
    "        k+=1\n",
    "        if temp==end:\n",
    "            break\n",
    "    print('vertices traveled:',k)\n",
    "    return\n",
    "                \n",
    "\n",
    "def dfs(df,start,end,k):\n",
    "    df.visit(start)\n",
    "    if start==end:\n",
    "        print('vertices traveled:',k)\n",
    "        return\n",
    "    for newpos in df.edge(start):\n",
    "        if df.go(newpos)==0:\n",
    "            k+=1\n",
    "            dfs(df,newpos,end,k)\n",
    "            "
   ]
  },
  {
   "cell_type": "code",
   "execution_count": 3,
   "metadata": {
    "collapsed": true
   },
   "outputs": [],
   "source": [
    "def check_around(i,j):\n",
    "    for k,l in [(i-1,j),(i+1,j),(i,j-1),(i,j+1)]:\n",
    "        try:\n",
    "            if maze[k][l]!='+':\n",
    "                mazerun.append((i,j),(k,l),1)\n",
    "            \n",
    "        except IndexError:\n",
    "            pass"
   ]
  },
  {
   "cell_type": "code",
   "execution_count": 4,
   "metadata": {},
   "outputs": [
    {
     "name": "stdout",
     "output_type": "stream",
     "text": [
      "++++++++++++++++++++++\n",
      "\n",
      "+   +   ++ ++        +\n",
      "\n",
      "      +     ++++++++++\n",
      "\n",
      "+ +    ++  ++++ +++ ++\n",
      "\n",
      "+ +   + + ++    +++  +\n",
      "\n",
      "+          ++  ++  + +\n",
      "\n",
      "+++++ + +      ++  + +\n",
      "\n",
      "+++++ +++  + +  ++   +\n",
      "\n",
      "+          + + S+ +  +\n",
      "\n",
      "+++++ +  + + +     + +\n",
      "\n",
      "++++++++++++++++++++++\n"
     ]
    }
   ],
   "source": [
    "import copy\n",
    "import numpy as np\n",
    "import os\n",
    "os.chdir('d:/')\n",
    "os.getcwd()\n",
    "import re\n",
    "f=open('maze.txt','r')\n",
    "m=f.readlines()\n",
    "for i in m:\n",
    "    print(i)"
   ]
  },
  {
   "cell_type": "code",
   "execution_count": 5,
   "metadata": {
    "collapsed": true
   },
   "outputs": [],
   "source": [
    "maze=[]\n",
    "for i in m:\n",
    "    maze.append(re.findall('.',i.replace('\\n','')))"
   ]
  },
  {
   "cell_type": "code",
   "execution_count": 6,
   "metadata": {
    "collapsed": true
   },
   "outputs": [],
   "source": [
    "mazerun=graph()\n",
    "for i in range(len(maze)):\n",
    "    for j in range(len(maze[0])):\n",
    "        if maze[i][j]=='S':\n",
    "            start=(i,j)\n",
    "            check_around(i,j)\n",
    "        elif maze[i][j]==' ':\n",
    "            check_around(i,j)\n",
    "            if (i==0) or (i==len(maze)-1) or (j==0) or (j==len(maze[0])-1):\n",
    "                end=(i,j)\n",
    "        else:\n",
    "            pass"
   ]
  },
  {
   "cell_type": "code",
   "execution_count": 7,
   "metadata": {},
   "outputs": [],
   "source": [
    "mazerun2=copy.deepcopy(mazerun)"
   ]
  },
  {
   "cell_type": "code",
   "execution_count": 8,
   "metadata": {},
   "outputs": [
    {
     "name": "stdout",
     "output_type": "stream",
     "text": [
      "vertices traveled: 86\n",
      "vertices traveled: 39\n"
     ]
    }
   ],
   "source": [
    "bfs(mazerun,start,end)\n",
    "dfs(mazerun2,start,end,0)"
   ]
  },
  {
   "cell_type": "code",
   "execution_count": null,
   "metadata": {},
   "outputs": [],
   "source": []
  },
  {
   "cell_type": "code",
   "execution_count": null,
   "metadata": {
    "collapsed": true
   },
   "outputs": [],
   "source": []
  },
  {
   "cell_type": "code",
   "execution_count": null,
   "metadata": {
    "collapsed": true
   },
   "outputs": [],
   "source": []
  },
  {
   "cell_type": "code",
   "execution_count": null,
   "metadata": {
    "collapsed": true
   },
   "outputs": [],
   "source": []
  }
 ],
 "metadata": {
  "kernelspec": {
   "display_name": "Python 3",
   "language": "python",
   "name": "python3"
  },
  "language_info": {
   "codemirror_mode": {
    "name": "ipython",
    "version": 3
   },
   "file_extension": ".py",
   "mimetype": "text/x-python",
   "name": "python",
   "nbconvert_exporter": "python",
   "pygments_lexer": "ipython3",
   "version": "3.6.2"
  }
 },
 "nbformat": 4,
 "nbformat_minor": 2
}
