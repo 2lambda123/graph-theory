{
 "cells": [
  {
   "cell_type": "code",
   "execution_count": 1,
   "metadata": {
    "collapsed": true
   },
   "outputs": [],
   "source": [
    "#dijkstra is a famous algorithm named after turin prize winner\n",
    "#it is somewhat similar to bfs\n",
    "#details about bfs are in the following link\n",
    "# https://github.com/tattooday/graph-theory/blob/master/BFS%20DFS%20on%20DCG.ipynb\n",
    "#except this time we have weighted graph\n",
    "#each weight denotes the distance from one vertex to another\n",
    "#we try to find the shortest path from one point to anoter\n",
    "\n",
    "#first part is graph definition\n",
    "#the same as bfs,dfs,topological sort\n",
    "class graph:\n",
    "    def __init__(self):\n",
    "        self.graph={}\n",
    "        self.visited={}\n",
    "\n",
    "    def append(self,vertexid,edge,weight):\n",
    "        if vertexid not in self.graph.keys():          \n",
    "            self.graph[vertexid]={}\n",
    "            self.visited[vertexid]=0\n",
    "        self.graph[vertexid][edge]=weight\n",
    "\n",
    "    def reveal(self):\n",
    "        return self.graph\n",
    "    \n",
    "    def vertex(self):\n",
    "        return list(self.graph.keys())\n",
    "\n",
    "    def edge(self,vertexid):\n",
    "        return list(self.graph[vertexid].keys())\n",
    "    \n",
    "    def weight(self,vertexid,edge):\n",
    "        \n",
    "        return (self.graph[vertexid][edge])\n",
    "    \n",
    "    def size(self):\n",
    "        return len(self.graph)\n",
    "    \n",
    "    def visit(self,vertexid):\n",
    "        self.visited[vertexid]=1\n",
    "    \n",
    "    def go(self,vertexid):\n",
    "        return self.visited[vertexid]\n",
    "    \n",
    "    def route(self):\n",
    "        return self.visited"
   ]
  },
  {
   "cell_type": "code",
   "execution_count": 2,
   "metadata": {
    "collapsed": true
   },
   "outputs": [],
   "source": [
    "#dijkstra needs a lot of space\n",
    "#queue is the same list in bfs\n",
    "#we use it to do the same trick as in bfs\n",
    "#distance is a dictionary\n",
    "#it keeps track of distance from start vertex to any vertex\n",
    "#visited is to check which vertices we have traveled\n",
    "#we can also use the built-in function of graph adt to do the same\n",
    "#before we start bfs\n",
    "#we initialize all distances from start to any vertices to infinity\n",
    "#we set the distance[start] to zero\n",
    "#each traversal. we try to find the shortest path from start to each vertex\n",
    "#in the end, we get the optimized result which is the shortest path\n",
    "#the idea is similar to dynamic programming\n",
    "#details about dynamic programming are in the following link\n",
    "# https://github.com/tattooday/recursion-and-dynamic-programming/blob/master/knapsack.py\n",
    "\n",
    "#note that all weights have to be positive \n",
    "#otherwise we cant use dijkstra\n",
    "def dijkstra(start,end,df):\n",
    "    queue=[]\n",
    "    distance={}\n",
    "    queue.append(start)\n",
    "    for i in df.vertex():\n",
    "        distance[i]=float('inf')\n",
    "    distance[start]=0    \n",
    "        \n",
    "    while queue:\n",
    "       \n",
    "        temp=queue.pop(0)\n",
    "        \n",
    "        for j in df.edge(temp):\n",
    "            if distance[temp]+df.weight(temp,j)<distance[j]:\n",
    "                distance[j]=distance[temp]+df.weight(temp,j)\n",
    "            if df.go(j)==0 and j not in queue:\n",
    "                queue.append(j)\n",
    "            \n",
    "        df.visit(temp)\n",
    "        print(df.route())\n",
    "    return distance[end]"
   ]
  },
  {
   "cell_type": "code",
   "execution_count": 3,
   "metadata": {
    "collapsed": true
   },
   "outputs": [],
   "source": [
    "df=graph()"
   ]
  },
  {
   "cell_type": "code",
   "execution_count": 4,
   "metadata": {
    "collapsed": true
   },
   "outputs": [],
   "source": [
    "#preview\n",
    "#https://github.com/tattooday/graph-theory/blob/master/preview/dijkstra.jpg\n",
    "df.append(1,2,1)\n",
    "df.append(1,3,2)\n",
    "df.append(2,4,2)\n",
    "df.append(2,5,2)\n",
    "df.append(3,5,1)\n",
    "df.append(4,2,2)\n",
    "df.append(4,6,3)\n",
    "df.append(5,2,2)\n",
    "df.append(5,6,1)\n",
    "df.append(6,3,1)"
   ]
  },
  {
   "cell_type": "code",
   "execution_count": 5,
   "metadata": {},
   "outputs": [
    {
     "name": "stdout",
     "output_type": "stream",
     "text": [
      "4\n"
     ]
    }
   ],
   "source": [
    "print(dijkstra(1,6,df))"
   ]
  },
  {
   "cell_type": "code",
   "execution_count": null,
   "metadata": {
    "collapsed": true
   },
   "outputs": [],
   "source": []
  },
  {
   "cell_type": "code",
   "execution_count": null,
   "metadata": {
    "collapsed": true
   },
   "outputs": [],
   "source": []
  }
 ],
 "metadata": {
  "kernelspec": {
   "display_name": "Python 3",
   "language": "python",
   "name": "python3"
  },
  "language_info": {
   "codemirror_mode": {
    "name": "ipython",
    "version": 3
   },
   "file_extension": ".py",
   "mimetype": "text/x-python",
   "name": "python",
   "nbconvert_exporter": "python",
   "pygments_lexer": "ipython3",
   "version": "3.6.2"
  }
 },
 "nbformat": 4,
 "nbformat_minor": 2
}
