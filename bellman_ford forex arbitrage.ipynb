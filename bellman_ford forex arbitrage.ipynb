{
 "cells": [
  {
   "cell_type": "code",
   "execution_count": 1,
   "metadata": {},
   "outputs": [],
   "source": [
    "#the classic arbitrage in forex is triangular arbitrage\n",
    "#for instance, we wanna short GBP long NOK\n",
    "#we can short GBP long PLN short PLN long NOK\n",
    "#which may give us more NOK for some cases\n",
    "#for this sort of arbitrage problem in high frequency trading\n",
    "#we can use dijkstra/bellman-ford algo to get the path and optimal result\n",
    "#however, algo trading is already a major player in forex market\n",
    "#it is rare that we can find this sort of arbitrage opportunity\n",
    "#if it exists, it would have been exploited long before we know\n",
    "#unfortunately, i didnt find any datasets that left opportunities to arbitrage\n",
    "import pandas as pd\n",
    "import numpy as np"
   ]
  },
  {
   "cell_type": "code",
   "execution_count": 2,
   "metadata": {},
   "outputs": [
    {
     "data": {
      "text/plain": [
       "'/home/jovyan'"
      ]
     },
     "execution_count": 2,
     "metadata": {},
     "output_type": "execute_result"
    }
   ],
   "source": [
    "import os\n",
    "os.getcwd()"
   ]
  },
  {
   "cell_type": "code",
   "execution_count": 3,
   "metadata": {},
   "outputs": [],
   "source": [
    "#forex data can be downloaded in the data subfolder\n",
    "# https://github.com/je-suis-tm/graph-theory/blob/master/data/forex.csv\n",
    "df=pd.read_csv('forex.csv')"
   ]
  },
  {
   "cell_type": "code",
   "execution_count": 4,
   "metadata": {},
   "outputs": [],
   "source": [
    "#details of graph adt can be found in the following link\n",
    "# https://github.com/je-suis-tm/graph-theory/blob/master/BFS%20DFS%20on%20DCG.ipynb\n",
    "class graph:\n",
    "        def __init__(self):\n",
    "            self.graph={}\n",
    "            self.visited={}\n",
    "    \n",
    "        def append(self,vertexid,edge,weight):\n",
    "            if vertexid not in self.graph.keys():          \n",
    "                self.graph[vertexid]={}\n",
    "                self.visited[vertexid]=0\n",
    "            self.graph[vertexid][edge]=weight\n",
    "            \n",
    "        def reveal(self):\n",
    "            return self.graph\n",
    "        \n",
    "        def vertex(self):\n",
    "            return list(self.graph.keys())\n",
    "    \n",
    "        def edge(self,vertexid):\n",
    "            return list(self.graph[vertexid].keys())\n",
    "        \n",
    "        def weight(self,vertexid,edge):\n",
    "            return (self.graph[vertexid][edge])\n",
    "        \n",
    "        def size(self):\n",
    "            return len(self.graph)\n",
    "        \n",
    "        def visit(self,vertexid):\n",
    "            self.visited[vertexid]=1\n",
    "            \n",
    "        def go(self,vertexid):\n",
    "            return self.visited[vertexid]\n",
    "        \n",
    "        def route(self):\n",
    "            return self.visited\n",
    "\n",
    "#details of dijkstra algo could be found in the following link\n",
    "# https://github.com/je-suis-tm/graph-theory/blob/master/dijkstra%20shortest%20path.ipynb\n",
    "def dijkstra(df,start,end):\n",
    "    queue={}\n",
    "    distance={}\n",
    "    queue[start]=0\n",
    "    pred={}\n",
    "    \n",
    "    for i in df.vertex():\n",
    "        distance[i]=float('inf')\n",
    "    distance[start]=0    \n",
    "        \n",
    "    while queue:\n",
    "        temp=min(queue,key=queue.get)\n",
    "        queue.pop(temp)\n",
    "        for j in df.edge(temp):\n",
    "            #there is a slight modification\n",
    "            #as the graph may be incompleted\n",
    "            #we should ignore keyerror \n",
    "            #we would see why in the session of building graph adt\n",
    "            try:\n",
    "                if distance[temp]+df.weight(temp,j)<distance[j]:\n",
    "                    distance[j]=distance[temp]+df.weight(temp,j)\n",
    "                    pred[j]=temp\n",
    "                \n",
    "                if df.go(j)==0 and j not in queue:\n",
    "                    queue[j]=distance[j]\n",
    "            except KeyError:\n",
    "                pass\n",
    "            \n",
    "        df.visit(temp)\n",
    "        \n",
    "    \n",
    "    k=end\n",
    "    path=[]\n",
    "    while pred:\n",
    "        path.insert(0,k)\n",
    "        if k==start:\n",
    "            break\n",
    "        k=pred[k]\n",
    "     \n",
    "    return distance[end],path\n",
    "        \n",
    "\n",
    "#bellman ford is somewhat similar to dijkstra\n",
    "#it doesnt need a queue to do bfs travesal and keep track of where it has been\n",
    "#it travels on all nodes in vertex list and their children nodes for numbers of nodes times\n",
    "#it adds one more part to detect if there is a negative cycle\n",
    "#it travels on all nodes in vertex list and their children nodes for once\n",
    "#if there is negative weight, traversals cannot bring convergence\n",
    "#we would have a very small distance caused by deduction after rounds of traversal\n",
    "#when there is no negative cycle, it works just like dijkstra to return the optimal steps\n",
    "#when there is, it reports the error\n",
    "#with 3 layers of loops, we can tell bellman fords time complexity is much higher than dijkstra\n",
    "def bellman_ford(df,start,end):\n",
    "    \n",
    "    distance={}\n",
    "    pred={}\n",
    "\n",
    "    for i in df.vertex():\n",
    "        distance[i]=float('inf')\n",
    "            \n",
    "    distance[start]=0    \n",
    "    \n",
    "    for counter in range(1,len(df.vertex())-1):\n",
    "        for i in df.vertex():\n",
    "            for j in df.edge(i):\n",
    "                try:\n",
    "                    if distance[i]+df.weight(i,j)<distance[j]:\n",
    "                        distance[j]=distance[i]+df.weight(i,j)\n",
    "                        pred[j]=i\n",
    "                \n",
    "                except KeyError:\n",
    "                    pass\n",
    "    \n",
    "    #\n",
    "    for k in df.vertex():\n",
    "        for l in df.edge(k):\n",
    "            try:\n",
    "                assert distance[k]+df.weight(k,l)>=distance[l],'negative cycle exists!'\n",
    "            except KeyError:\n",
    "                pass\n",
    "    \n",
    "    k=end\n",
    "    path=[]\n",
    "    while pred:\n",
    "        path.insert(0,k)\n",
    "        if k==start:\n",
    "            break\n",
    "        k=pred[k]\n",
    "     \n",
    "    return distance[end],path"
   ]
  },
  {
   "cell_type": "code",
   "execution_count": 5,
   "metadata": {},
   "outputs": [
    {
     "data": {
      "text/html": [
       "<div>\n",
       "<style scoped>\n",
       "    .dataframe tbody tr th:only-of-type {\n",
       "        vertical-align: middle;\n",
       "    }\n",
       "\n",
       "    .dataframe tbody tr th {\n",
       "        vertical-align: top;\n",
       "    }\n",
       "\n",
       "    .dataframe thead th {\n",
       "        text-align: right;\n",
       "    }\n",
       "</style>\n",
       "<table border=\"1\" class=\"dataframe\">\n",
       "  <thead>\n",
       "    <tr style=\"text-align: right;\">\n",
       "      <th></th>\n",
       "      <th>currency</th>\n",
       "      <th>ask</th>\n",
       "      <th>bid</th>\n",
       "    </tr>\n",
       "  </thead>\n",
       "  <tbody>\n",
       "    <tr>\n",
       "      <th>0</th>\n",
       "      <td>AUDJPY</td>\n",
       "      <td>83.8930</td>\n",
       "      <td>83.8610</td>\n",
       "    </tr>\n",
       "    <tr>\n",
       "      <th>1</th>\n",
       "      <td>AUDUSD</td>\n",
       "      <td>0.7599</td>\n",
       "      <td>0.7596</td>\n",
       "    </tr>\n",
       "    <tr>\n",
       "      <th>2</th>\n",
       "      <td>CHFJPY</td>\n",
       "      <td>112.0830</td>\n",
       "      <td>112.0370</td>\n",
       "    </tr>\n",
       "    <tr>\n",
       "      <th>3</th>\n",
       "      <td>EURCHF</td>\n",
       "      <td>1.1604</td>\n",
       "      <td>1.1601</td>\n",
       "    </tr>\n",
       "    <tr>\n",
       "      <th>4</th>\n",
       "      <td>EURGBP</td>\n",
       "      <td>0.8809</td>\n",
       "      <td>0.8806</td>\n",
       "    </tr>\n",
       "    <tr>\n",
       "      <th>5</th>\n",
       "      <td>EURJPY</td>\n",
       "      <td>130.0160</td>\n",
       "      <td>129.9680</td>\n",
       "    </tr>\n",
       "    <tr>\n",
       "      <th>6</th>\n",
       "      <td>EURUSD</td>\n",
       "      <td>1.1778</td>\n",
       "      <td>1.1773</td>\n",
       "    </tr>\n",
       "    <tr>\n",
       "      <th>7</th>\n",
       "      <td>GBPCHF</td>\n",
       "      <td>1.3177</td>\n",
       "      <td>1.3172</td>\n",
       "    </tr>\n",
       "    <tr>\n",
       "      <th>8</th>\n",
       "      <td>GBPJPY</td>\n",
       "      <td>147.6490</td>\n",
       "      <td>147.5770</td>\n",
       "    </tr>\n",
       "    <tr>\n",
       "      <th>9</th>\n",
       "      <td>GBPUSD</td>\n",
       "      <td>1.3375</td>\n",
       "      <td>1.3367</td>\n",
       "    </tr>\n",
       "    <tr>\n",
       "      <th>10</th>\n",
       "      <td>USDCHF</td>\n",
       "      <td>0.9856</td>\n",
       "      <td>0.9852</td>\n",
       "    </tr>\n",
       "    <tr>\n",
       "      <th>11</th>\n",
       "      <td>USDJPY</td>\n",
       "      <td>110.4430</td>\n",
       "      <td>110.3760</td>\n",
       "    </tr>\n",
       "  </tbody>\n",
       "</table>\n",
       "</div>"
      ],
      "text/plain": [
       "   currency       ask       bid\n",
       "0    AUDJPY   83.8930   83.8610\n",
       "1    AUDUSD    0.7599    0.7596\n",
       "2    CHFJPY  112.0830  112.0370\n",
       "3    EURCHF    1.1604    1.1601\n",
       "4    EURGBP    0.8809    0.8806\n",
       "5    EURJPY  130.0160  129.9680\n",
       "6    EURUSD    1.1778    1.1773\n",
       "7    GBPCHF    1.3177    1.3172\n",
       "8    GBPJPY  147.6490  147.5770\n",
       "9    GBPUSD    1.3375    1.3367\n",
       "10   USDCHF    0.9856    0.9852\n",
       "11   USDJPY  110.4430  110.3760"
      ]
     },
     "execution_count": 5,
     "metadata": {},
     "output_type": "execute_result"
    }
   ],
   "source": [
    "df"
   ]
  },
  {
   "cell_type": "code",
   "execution_count": 6,
   "metadata": {},
   "outputs": [],
   "source": [
    "g=graph()\n",
    "#the tricky part of forex is its calculation\n",
    "#for instance, assume we have EURGBP,GBPUSD\n",
    "#to get EURUSD, we need to multiply EURGBP by GBPUSD\n",
    "#however, dijkstra accepts plus only\n",
    "#thus, we need a logarithm transformation\n",
    "#cuz log(a)+log(b)=e**(a*b)\n",
    "#however, some forex rate such as EURGBP is smaller than 1\n",
    "#after logarithm transformation we get negative numbers(cuz e**0=1)\n",
    "#therefore we use negative logarithm transformation\n",
    "#the good thing about it is that we wanna get a forex rate larger than a direct one\n",
    "#after negative logarithm transformation, we only need to get the smallest number\n",
    "#which is consistent with dijkstra!\n",
    "\n",
    "\n",
    "#there is an issue for dijkstra to really work in high frequency trading\n",
    "#some forex rate such as EURJPY is larger than 100\n",
    "#after logarithm transformation we get postive numbers\n",
    "#in order to use dijkstra, we only add negative weights to the graph adt\n",
    "for i in df.index:\n",
    "    if np.log(df['bid'][i])<0:\n",
    "        g.append(df['currency'][i][:3],df['currency'][i][3:],-np.log(df['bid'][i]))\n",
    "    if np.log(1/df['bid'][i])<0:\n",
    "        g.append(df['currency'][i][3:],df['currency'][i][:3],-np.log(1/df['bid'][i]))"
   ]
  },
  {
   "cell_type": "code",
   "execution_count": 7,
   "metadata": {},
   "outputs": [
    {
     "data": {
      "text/plain": [
       "{'AUD': {'USD': 0.27496330004400615},\n",
       " 'CHF': {'EUR': 0.14850620829922395, 'GBP': 0.2755082715200721},\n",
       " 'EUR': {'GBP': 0.12715178566048355},\n",
       " 'JPY': {'AUD': 4.429160666307817,\n",
       "  'CHF': 4.718829173882046,\n",
       "  'EUR': 4.867288266308598,\n",
       "  'GBP': 4.994350073465887,\n",
       "  'USD': 4.703892718905732},\n",
       " 'USD': {'CHF': 0.01491061273575424,\n",
       "  'EUR': 0.16322368110201413,\n",
       "  'GBP': 0.29020388999529034}}"
      ]
     },
     "execution_count": 7,
     "metadata": {},
     "output_type": "execute_result"
    }
   ],
   "source": [
    "#note that this graph adt is incomplete\n",
    "g.reveal()"
   ]
  },
  {
   "cell_type": "code",
   "execution_count": 8,
   "metadata": {},
   "outputs": [],
   "source": [
    "answer=dijkstra(g,'USD','EUR')"
   ]
  },
  {
   "cell_type": "code",
   "execution_count": 9,
   "metadata": {},
   "outputs": [
    {
     "data": {
      "text/plain": [
       "0.8494011721736175"
      ]
     },
     "execution_count": 9,
     "metadata": {},
     "output_type": "execute_result"
    }
   ],
   "source": [
    "#we revert the answer back to non-logarithm forex rate\n",
    "np.e**(-answer[0])"
   ]
  },
  {
   "cell_type": "code",
   "execution_count": 10,
   "metadata": {},
   "outputs": [
    {
     "data": {
      "text/plain": [
       "['USD', 'EUR']"
      ]
     },
     "execution_count": 10,
     "metadata": {},
     "output_type": "execute_result"
    }
   ],
   "source": [
    "#the shortest route is direct route USDEUR\n",
    "answer[1]"
   ]
  },
  {
   "cell_type": "code",
   "execution_count": 11,
   "metadata": {},
   "outputs": [
    {
     "data": {
      "text/plain": [
       "6    0.849401\n",
       "Name: bid, dtype: float64"
      ]
     },
     "execution_count": 11,
     "metadata": {},
     "output_type": "execute_result"
    }
   ],
   "source": [
    "#which is consistent with inverse of EURUSD bid price\n",
    "1/df['bid'][df['currency']=='EURUSD']"
   ]
  },
  {
   "cell_type": "code",
   "execution_count": 12,
   "metadata": {},
   "outputs": [
    {
     "data": {
      "text/plain": [
       "0.8492552012803153"
      ]
     },
     "execution_count": 12,
     "metadata": {},
     "output_type": "execute_result"
    }
   ],
   "source": [
    "#if we try USD to JPY to EUR\n",
    "#we have a larger number\n",
    "#it proves that dijkstra gave us the optimal forex rate\n",
    "a=float(df['bid'][df['currency']=='EURJPY'])\n",
    "b=float(df['bid'][df['currency']=='USDJPY'])\n",
    "b/a"
   ]
  },
  {
   "cell_type": "code",
   "execution_count": 13,
   "metadata": {},
   "outputs": [],
   "source": [
    "#lets try to build a complete graph adt and implement bellman ford algo\n",
    "g=graph()\n",
    "for i in df.index:\n",
    "    g.append(df['currency'][i][:3],df['currency'][i][3:],-np.log(df['bid'][i]))\n",
    "    g.append(df['currency'][i][3:],df['currency'][i][:3],-np.log(1/df['bid'][i]))"
   ]
  },
  {
   "cell_type": "code",
   "execution_count": 14,
   "metadata": {},
   "outputs": [
    {
     "data": {
      "text/plain": [
       "{'AUD': {'JPY': -4.429160666307817, 'USD': 0.27496330004400615},\n",
       " 'CHF': {'EUR': 0.14850620829922395,\n",
       "  'GBP': 0.2755082715200721,\n",
       "  'JPY': -4.718829173882046,\n",
       "  'USD': -0.01491061273575428},\n",
       " 'EUR': {'CHF': -0.14850620829922395,\n",
       "  'GBP': 0.12715178566048355,\n",
       "  'JPY': -4.867288266308598,\n",
       "  'USD': -0.16322368110201407},\n",
       " 'GBP': {'CHF': -0.2755082715200721,\n",
       "  'EUR': -0.1271517856604836,\n",
       "  'JPY': -4.9943500734658866,\n",
       "  'USD': -0.2902038899952903},\n",
       " 'JPY': {'AUD': 4.429160666307817,\n",
       "  'CHF': 4.718829173882046,\n",
       "  'EUR': 4.867288266308598,\n",
       "  'GBP': 4.994350073465887,\n",
       "  'USD': 4.703892718905732},\n",
       " 'USD': {'AUD': -0.27496330004400615,\n",
       "  'CHF': 0.01491061273575424,\n",
       "  'EUR': 0.16322368110201413,\n",
       "  'GBP': 0.29020388999529034,\n",
       "  'JPY': -4.703892718905732}}"
      ]
     },
     "execution_count": 14,
     "metadata": {},
     "output_type": "execute_result"
    }
   ],
   "source": [
    "#the complete graph adt\n",
    "g.reveal()"
   ]
  },
  {
   "cell_type": "code",
   "execution_count": 15,
   "metadata": {},
   "outputs": [
    {
     "ename": "AssertionError",
     "evalue": "negative cycle exists!",
     "output_type": "error",
     "traceback": [
      "\u001b[0;31m---------------------------------------------------------------------------\u001b[0m",
      "\u001b[0;31mAssertionError\u001b[0m                            Traceback (most recent call last)",
      "\u001b[0;32m<ipython-input-15-837bfdebb0d6>\u001b[0m in \u001b[0;36m<module>\u001b[0;34m()\u001b[0m\n\u001b[1;32m      1\u001b[0m \u001b[0;31m#there is a negative cycle\u001b[0m\u001b[0;34m\u001b[0m\u001b[0;34m\u001b[0m\u001b[0m\n\u001b[1;32m      2\u001b[0m \u001b[0;31m#we got error message\u001b[0m\u001b[0;34m\u001b[0m\u001b[0;34m\u001b[0m\u001b[0m\n\u001b[0;32m----> 3\u001b[0;31m \u001b[0mbellman_ford\u001b[0m\u001b[0;34m(\u001b[0m\u001b[0mg\u001b[0m\u001b[0;34m,\u001b[0m\u001b[0;34m'USD'\u001b[0m\u001b[0;34m,\u001b[0m\u001b[0;34m'EUR'\u001b[0m\u001b[0;34m)\u001b[0m\u001b[0;34m\u001b[0m\u001b[0m\n\u001b[0m",
      "\u001b[0;32m<ipython-input-4-d96fbbf9a6c2>\u001b[0m in \u001b[0;36mbellman_ford\u001b[0;34m(df, start, end)\u001b[0m\n\u001b[1;32m    115\u001b[0m         \u001b[0;32mfor\u001b[0m \u001b[0ml\u001b[0m \u001b[0;32min\u001b[0m \u001b[0mdf\u001b[0m\u001b[0;34m.\u001b[0m\u001b[0medge\u001b[0m\u001b[0;34m(\u001b[0m\u001b[0mk\u001b[0m\u001b[0;34m)\u001b[0m\u001b[0;34m:\u001b[0m\u001b[0;34m\u001b[0m\u001b[0m\n\u001b[1;32m    116\u001b[0m             \u001b[0;32mtry\u001b[0m\u001b[0;34m:\u001b[0m\u001b[0;34m\u001b[0m\u001b[0m\n\u001b[0;32m--> 117\u001b[0;31m                 \u001b[0;32massert\u001b[0m \u001b[0mdistance\u001b[0m\u001b[0;34m[\u001b[0m\u001b[0mk\u001b[0m\u001b[0;34m]\u001b[0m\u001b[0;34m+\u001b[0m\u001b[0mdf\u001b[0m\u001b[0;34m.\u001b[0m\u001b[0mweight\u001b[0m\u001b[0;34m(\u001b[0m\u001b[0mk\u001b[0m\u001b[0;34m,\u001b[0m\u001b[0ml\u001b[0m\u001b[0;34m)\u001b[0m\u001b[0;34m>=\u001b[0m\u001b[0mdistance\u001b[0m\u001b[0;34m[\u001b[0m\u001b[0ml\u001b[0m\u001b[0;34m]\u001b[0m\u001b[0;34m,\u001b[0m\u001b[0;34m'negative cycle exists!'\u001b[0m\u001b[0;34m\u001b[0m\u001b[0m\n\u001b[0m\u001b[1;32m    118\u001b[0m             \u001b[0;32mexcept\u001b[0m \u001b[0mKeyError\u001b[0m\u001b[0;34m:\u001b[0m\u001b[0;34m\u001b[0m\u001b[0m\n\u001b[1;32m    119\u001b[0m                 \u001b[0;32mpass\u001b[0m\u001b[0;34m\u001b[0m\u001b[0m\n",
      "\u001b[0;31mAssertionError\u001b[0m: negative cycle exists!"
     ]
    }
   ],
   "source": [
    "#there is a negative cycle\n",
    "#we got error message\n",
    "bellman_ford(g,'USD','EUR')"
   ]
  },
  {
   "cell_type": "code",
   "execution_count": null,
   "metadata": {},
   "outputs": [],
   "source": []
  },
  {
   "cell_type": "code",
   "execution_count": null,
   "metadata": {},
   "outputs": [],
   "source": []
  },
  {
   "cell_type": "code",
   "execution_count": null,
   "metadata": {},
   "outputs": [],
   "source": []
  }
 ],
 "metadata": {
  "kernelspec": {
   "display_name": "Python 3",
   "language": "python",
   "name": "python3"
  },
  "language_info": {
   "codemirror_mode": {
    "name": "ipython",
    "version": 3
   },
   "file_extension": ".py",
   "mimetype": "text/x-python",
   "name": "python",
   "nbconvert_exporter": "python",
   "pygments_lexer": "ipython3",
   "version": "3.6.4"
  }
 },
 "nbformat": 4,
 "nbformat_minor": 2
}
