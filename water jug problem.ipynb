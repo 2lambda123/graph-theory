{
 "cells": [
  {
   "cell_type": "markdown",
   "metadata": {},
   "source": [
    "### Water Jug\n",
    "\n",
    "&nbsp;\n",
    "\n",
    "Water jug is an interesting problem. Basically you have two water jugs with different volume. The idea is to get certain amount of water inside one of the jugs without taking any measurement. All you can do is to pour water from one jug to the other. There are different ways to solve this problem. \n",
    "You can take dynamic programming approach, algebra approach or graph theory approach. Here, we intend to discuss BFS, DFS and Dijkstra from graph theory approach.\n",
    "\n",
    "Details of water jug problem can be found in the following link\n",
    "\n",
    "https://www.geeksforgeeks.org/puzzle-water-jug-problem/\n",
    "\n",
    "&nbsp;"
   ]
  },
  {
   "cell_type": "code",
   "execution_count": 1,
   "metadata": {},
   "outputs": [],
   "source": [
    "import os\n",
    "os.chdir('K:/ecole/github')\n",
    "import matplotlib.pyplot as plt\n",
    "import matplotlib.animation as pltani\n",
    "\n",
    "#graph adt\n",
    "#check the below link for more details\n",
    "# https://github.com/je-suis-tm/graph-theory/blob/master/graph.py\n",
    "import graph"
   ]
  },
  {
   "cell_type": "code",
   "execution_count": 2,
   "metadata": {},
   "outputs": [],
   "source": [
    "#assume the big jug is 5 gallon, the small jug is 3 gallon\n",
    "big=5\n",
    "small=3"
   ]
  },
  {
   "cell_type": "code",
   "execution_count": 3,
   "metadata": {},
   "outputs": [],
   "source": [
    "#to add edges between vertices\n",
    "#lets look at all the possible scenarios\n",
    "#there are eight scenarios\n",
    "def check_around(big,small):\n",
    "    \n",
    "    ADT=graph.graph()\n",
    "\n",
    "    for i in range(big+1):\n",
    "        for j in range(small+1):\n",
    "\n",
    "            #when big jug is empty\n",
    "            #we can always fill up big jug\n",
    "            if i==0:\n",
    "\n",
    "                ADT.append((0,j),(big,j),1)\n",
    "\n",
    "            #when small jug is empty\n",
    "            #we can always fill up small jug\n",
    "            if j==0:\n",
    "\n",
    "                ADT.append((i,0),(i,small),1)\n",
    "\n",
    "            #when small jug is not empty\n",
    "            #we can always empty the small jug\n",
    "            #that condition avoids (0,0) to (0,0)\n",
    "            if j!=0:\n",
    "\n",
    "                ADT.append((i,j),(i,0),1)\n",
    "\n",
    "            #when big jug is not empty\n",
    "            #we can always empty the big jug\n",
    "            #that condition avoids (0,0) to (0,0)\n",
    "            if i!=0:\n",
    "\n",
    "                ADT.append((i,j),(0,j),1)\n",
    "\n",
    "            #when big jug is not filled up\n",
    "            #we pour water from small jug into the big jug\n",
    "            #we dont have water left in the small jug \n",
    "            #and the big jug is filled up\n",
    "            if i<big and j<=big-i:\n",
    "\n",
    "                ADT.append((i,j),(i+j,0),1)\n",
    "\n",
    "            #when big jug is not filled up\n",
    "            #we pour water from small jug into the big jug\n",
    "            #we still got some water left in the small jug \n",
    "            #and the big jug is filled up\n",
    "            if i<big and j>big-i:\n",
    "\n",
    "                ADT.append((i,j),(big,j-big+i),1)\n",
    "\n",
    "            #when small jug is not filled up\n",
    "            #we pour water from big jug into the small jug\n",
    "            #we dont have water left in the big jug \n",
    "            #and the small jug is filled up\n",
    "            if j<small and i<=small-j:\n",
    "\n",
    "                ADT.append((i,j),(0,j+i),1)\n",
    "\n",
    "            #when small jug is not filled up\n",
    "            #we pour water from big jug into the small jug\n",
    "            #we still have water left in the big jug \n",
    "            #and the small jug is filled up\n",
    "            if j<small and i>small-j:\n",
    "\n",
    "                ADT.append((i,j),(i-small+j,small),1)\n",
    "                \n",
    "    return ADT"
   ]
  },
  {
   "cell_type": "code",
   "execution_count": 4,
   "metadata": {},
   "outputs": [],
   "source": [
    "#generate graph adt\n",
    "ADT=check_around(big,small)"
   ]
  },
  {
   "cell_type": "code",
   "execution_count": 5,
   "metadata": {},
   "outputs": [
    {
     "name": "stdout",
     "output_type": "stream",
     "text": [
      "length of the process: 7\n",
      "number of vertices BFS has travelled: 15\n"
     ]
    }
   ],
   "source": [
    "#bfs demonstrates the capability of finding an optimal for any graph adt\n",
    "#details of bfs can be found in the following link\n",
    "# https://github.com/je-suis-tm/graph-theory/blob/master/BFS%20DFS%20on%20DCG.ipynb\n",
    "len_of_process_bfs,process_bfs=graph.bfs_path(ADT,(0,0),(4,0))\n",
    "num_of_v_bfs=len([i for i in ADT.route() if ADT.route()[i]==1])\n",
    "ADT.clear(whole=True)\n",
    "\n",
    "print(f'length of the process:',len_of_process_bfs)\n",
    "print(f'number of vertices BFS has travelled:',num_of_v_bfs)"
   ]
  },
  {
   "cell_type": "code",
   "execution_count": 6,
   "metadata": {},
   "outputs": [
    {
     "name": "stdout",
     "output_type": "stream",
     "text": [
      "length of the process: 10\n",
      "number of vertices DFS has travelled: 11\n"
     ]
    }
   ],
   "source": [
    "#dfs traveled fewer vertices\n",
    "#even though the result is not the optimal\n",
    "#details of dfs can be found in the following link\n",
    "# https://github.com/je-suis-tm/graph-theory/blob/master/BFS%20DFS%20on%20DCG.ipynb\n",
    "len_of_process_dfs,process_dfs=graph.dfs_path(ADT,(0,0),(4,0))\n",
    "num_of_v_dfs=len([i for i in ADT.route() if ADT.route()[i]==1])\n",
    "ADT.clear(whole=True)\n",
    "\n",
    "print(f'length of the process:',len_of_process_dfs)\n",
    "print(f'number of vertices DFS has travelled:',num_of_v_dfs)"
   ]
  },
  {
   "cell_type": "code",
   "execution_count": 7,
   "metadata": {},
   "outputs": [
    {
     "name": "stdout",
     "output_type": "stream",
     "text": [
      "length of the process: 7\n",
      "number of vertices Dijkstra has travelled: 15\n"
     ]
    }
   ],
   "source": [
    "#dijkstra is guaranteed to find the optimal\n",
    "#details of dijkstra could be found in the following link\n",
    "# https://github.com/je-suis-tm/graph-theory/blob/master/dijkstra%20shortest%20path.ipynb\n",
    "len_of_process_dijkstra,process_dijkstra=graph.dijkstra(ADT,(0,0),(4,0))\n",
    "num_of_v_dijkstra=len([i for i in ADT.route() if ADT.route()[i]==1])\n",
    "ADT.clear(whole=True)\n",
    "\n",
    "print(f'length of the process:',len_of_process_dijkstra)\n",
    "print(f'number of vertices Dijkstra has travelled:',num_of_v_dijkstra)"
   ]
  },
  {
   "cell_type": "code",
   "execution_count": 8,
   "metadata": {},
   "outputs": [],
   "source": [
    "#viz water jug change\n",
    "def draw_waterjug(ind,*args):\n",
    "    \n",
    "    ax,process=args\n",
    "\n",
    "    ax.collections.clear()\n",
    "    \n",
    "    #viz water\n",
    "    Y_big,Y_small=process[ind][0],process[ind][1]\n",
    "    xval_big=[i/10 for i in range(6,15)]\n",
    "    xval_small=[i/10 for i in range(26,35)]\n",
    "    yval_big=[big/10*i for i in range(Y_big*2+1)]\n",
    "    yval_small=[small/10*i for i in range(Y_small*2+1)]\n",
    "\n",
    "    ax.scatter(sorted(xval_big*len(yval_big)),\n",
    "               yval_big*len(xval_big),\n",
    "               color='cyan' if Y_big!=0 else 'w',\n",
    "               s=2)\n",
    "    ax.scatter(sorted(xval_small*len(yval_small)),\n",
    "               yval_small*len(xval_small),\n",
    "               color='cyan' if Y_small!=0 else 'w',\n",
    "               s=2)\n"
   ]
  },
  {
   "cell_type": "code",
   "execution_count": 9,
   "metadata": {
    "scrolled": true
   },
   "outputs": [
    {
     "name": "stderr",
     "output_type": "stream",
     "text": [
      "MovieWriter ffmpeg unavailable.\n"
     ]
    },
    {
     "data": {
      "image/png": "[encoded data removed]",
      "text/plain": [
       "<Figure size 360x360 with 1 Axes>"
      ]
     },
     "metadata": {
      "needs_background": "light"
     },
     "output_type": "display_data"
    }
   ],
   "source": [
    "fig,ax=plt.subplots(figsize=(5,5))\n",
    "\n",
    "#viz jug\n",
    "bigjug=plt.Rectangle((0.5,0),1,big,fill=False,\n",
    "                     label='Big Jug')\n",
    "smalljug=plt.Rectangle((2.5,0),1,small,fill=False,\n",
    "                       linestyle='--',\n",
    "                       label='Small Jug')\n",
    "plt.gca().add_patch(bigjug)\n",
    "plt.gca().add_patch(smalljug)\n",
    "\n",
    "#chic design\n",
    "ax.set_xticks([])\n",
    "ax.set_xlim(0,4)\n",
    "ax.set_ylim(0,big+1)\n",
    "ax.legend()\n",
    "\n",
    "#create animations\n",
    "anim=pltani.FuncAnimation(fig,draw_waterjug,\n",
    "                          frames=len(process_dijkstra),\n",
    "                          interval=700,\n",
    "                          fargs=(ax,process_dijkstra))\n",
    "anim.save('water jug.gif')"
   ]
  },
  {
   "cell_type": "markdown",
   "metadata": {},
   "source": [
    "![alt text](./preview/water jug.gif)"
   ]
  },
  {
   "cell_type": "code",
   "execution_count": null,
   "metadata": {},
   "outputs": [],
   "source": []
  }
 ],
 "metadata": {
  "kernelspec": {
   "display_name": "Python 3",
   "language": "python",
   "name": "python3"
  },
  "language_info": {
   "codemirror_mode": {
    "name": "ipython",
    "version": 3
   },
   "file_extension": ".py",
   "mimetype": "text/x-python",
   "name": "python",
   "nbconvert_exporter": "python",
   "pygments_lexer": "ipython3",
   "version": "3.6.5"
  }
 },
 "nbformat": 4,
 "nbformat_minor": 2
}
