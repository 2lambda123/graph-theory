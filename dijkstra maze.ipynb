{
 "cells": [
  {
   "cell_type": "code",
   "execution_count": 1,
   "metadata": {
    "collapsed": true
   },
   "outputs": [],
   "source": [
    "#there are many ways to get outta a maze\n",
    "#this time, lets apply dijkstra algo to the maze problem\n",
    "#cuz we intend to get outta there asap\n",
    "#otherwise, we can use bfs or dfs or other algos\n",
    "\n",
    "#details of graph adt can be found in the following link\n",
    "# https://github.com/tattooday/graph-theory/blob/master/BFS%20DFS%20on%20DCG.ipynb\n",
    "class graph:\n",
    "        def __init__(self):\n",
    "            self.graph={}\n",
    "            self.visited={}\n",
    "    \n",
    "        def append(self,vertexid,edge,weight):\n",
    "            if vertexid not in self.graph.keys():          \n",
    "                self.graph[vertexid]={}\n",
    "                self.visited[vertexid]=0\n",
    "            self.graph[vertexid][edge]=weight\n",
    "            \n",
    "        def reveal(self):\n",
    "            return self.graph\n",
    "        \n",
    "        def vertex(self):\n",
    "            return list(self.graph.keys())\n",
    "    \n",
    "        def edge(self,vertexid):\n",
    "            return list(self.graph[vertexid].keys())\n",
    "        \n",
    "        def weight(self,vertexid,edge):\n",
    "            return (self.graph[vertexid][edge])\n",
    "        \n",
    "        def size(self):\n",
    "            return len(self.graph)\n",
    "        \n",
    "        def visit(self,vertexid):\n",
    "            self.visited[vertexid]=1\n",
    "            \n",
    "        def go(self,vertexid):\n",
    "            return self.visited[vertexid]\n",
    "        \n",
    "        def route(self):\n",
    "            return self.visited"
   ]
  },
  {
   "cell_type": "code",
   "execution_count": 2,
   "metadata": {
    "collapsed": true
   },
   "outputs": [],
   "source": [
    "#details of dijkstra algo could be found in the following link\n",
    "# https://github.com/tattooday/graph-theory/blob/master/dijkstra%20shortest%20path.ipynb\n",
    "def dijkstra(start,end,df):\n",
    "    queue=[]\n",
    "    distance={}\n",
    "    queue.append(start)\n",
    "    for i in df.vertex():\n",
    "        distance[i]=float('inf')\n",
    "    distance[start]=0    \n",
    "        \n",
    "    while queue:\n",
    "        temp=queue.pop(0)\n",
    "        \n",
    "        for j in df.edge(temp):\n",
    "            if distance[temp]+df.weight(temp,j)<distance[j]:\n",
    "                distance[j]=distance[temp]+df.weight(temp,j)\n",
    "            if df.go(j)==0 and j not in queue:\n",
    "                queue.append(j)\n",
    "            \n",
    "        df.visit(temp)\n",
    "        #this algo only returns the minimum step to get outta a maze\n",
    "        #to get the route, we just return distance in the function\n",
    "        #or set up a separate list to keep tracks of vertices along the way\n",
    "    return distance[end]"
   ]
  },
  {
   "cell_type": "code",
   "execution_count": 3,
   "metadata": {
    "collapsed": true
   },
   "outputs": [],
   "source": [
    "#the difficult part of a maze problem is to convert maze into a graph adt\n",
    "#assume maze is a i*j matrix\n",
    "#we can convert it into a tree or called list of list\n",
    "#lets assign coordinates to each nodes in the tree\n",
    "#the top left would be {0,0}\n",
    "#the bottom right would be (i-1,j-1)\n",
    "\n",
    "#this check_around function is designated to check nodes\n",
    "#for a node with coordinate (i,j)\n",
    "#we wanna check its upper node, lower node, left node and right node\n",
    "#which are (i-1,j),(i+1,j),(i,j-1),(i,j+1)\n",
    "#if those nodes mentioned above are not walls ('+' is wall in the maze)\n",
    "#we append those edges into the graph\n",
    "#but for boundary nodes, we wont find all four nodes near them\n",
    "#therefore, we need to exclude index error\n",
    "def check_around(i,j):\n",
    "    for k,l in [(i-1,j),(i+1,j),(i,j-1),(i,j+1)]:\n",
    "        try:\n",
    "            if maze[k][l]!='+':\n",
    "                mazerun.append((i,j),(k,l),1)\n",
    "            \n",
    "        except IndexError:\n",
    "            pass"
   ]
  },
  {
   "cell_type": "code",
   "execution_count": 4,
   "metadata": {},
   "outputs": [
    {
     "name": "stdout",
     "output_type": "stream",
     "text": [
      "++++++++++++++++++++++\n",
      "\n",
      "+   +   ++ ++        +\n",
      "\n",
      "      +     ++++++++++\n",
      "\n",
      "+ +    ++  ++++ +++ ++\n",
      "\n",
      "+ +   + + ++    +++  +\n",
      "\n",
      "+          ++  ++  + +\n",
      "\n",
      "+++++ + +      ++  + +\n",
      "\n",
      "+++++ +++  + +  ++   +\n",
      "\n",
      "+          + + S+ +  +\n",
      "\n",
      "+++++ +  + + +     + +\n",
      "\n",
      "++++++++++++++++++++++\n"
     ]
    }
   ],
   "source": [
    "#read the maze file and print\n",
    "#it can be downloaded from\n",
    "# \n",
    "import os\n",
    "os.chdir('d:/')\n",
    "os.getcwd()\n",
    "import re\n",
    "f=open('maze.txt','r')\n",
    "m=f.readlines()\n",
    "for i in m:\n",
    "    print(i)"
   ]
  },
  {
   "cell_type": "code",
   "execution_count": 5,
   "metadata": {
    "collapsed": true
   },
   "outputs": [],
   "source": [
    "#first, lets turn this txt file into a tree\n",
    "#which is list of list\n",
    "maze=[]\n",
    "for i in m:\n",
    "    maze.append(re.findall('.',i.replace('\\n','')))"
   ]
  },
  {
   "cell_type": "code",
   "execution_count": 6,
   "metadata": {
    "collapsed": true
   },
   "outputs": [],
   "source": [
    "#for nodes in our maze tree\n",
    "#S is the starting point\n",
    "#when we find s, we set the start\n",
    "#and dont forget to append start into graph adt\n",
    "#when we find ' ', space is the valid path we can take\n",
    "#we use check_around function to add edges\n",
    "#when we find +, it is wall\n",
    "#if there is a breach on the boundary wall\n",
    "#we consider it as exit\n",
    "\n",
    "#note that we assume there is only one exit in this maze\n",
    "#we can also change the terminal to a point inside a maze\n",
    "#in that case we have to consider the situation \n",
    "#what if we cannot get to the destination\n",
    "mazerun=graph()\n",
    "for i in range(len(maze)):\n",
    "    for j in range(len(maze[0])):\n",
    "        if maze[i][j]=='S':\n",
    "            start=(i,j)\n",
    "            check_around(i,j)\n",
    "        elif maze[i][j]==' ':\n",
    "            check_around(i,j)\n",
    "            if (i==0) or (i==len(maze)-1) or (j==0) or (j==len(maze[0])-1):\n",
    "                end=(i,j)\n",
    "        else:\n",
    "            pass"
   ]
  },
  {
   "cell_type": "code",
   "execution_count": 7,
   "metadata": {},
   "outputs": [
    {
     "data": {
      "text/plain": [
       "21"
      ]
     },
     "execution_count": 7,
     "metadata": {},
     "output_type": "execute_result"
    }
   ],
   "source": [
    "#this would show us the minimum step to get outta a maze\n",
    "#for tom and jerry problem in leetcodes\n",
    "#we better use bfs to check all the cheese in the maze\n",
    "\n",
    "#to visualize the route\n",
    "#we can use turtle package to draw\n",
    "#or use a separate list to keep track\n",
    "dijkstra(start,end,mazerun)"
   ]
  },
  {
   "cell_type": "code",
   "execution_count": null,
   "metadata": {
    "collapsed": true
   },
   "outputs": [],
   "source": []
  },
  {
   "cell_type": "code",
   "execution_count": 8,
   "metadata": {
    "collapsed": true
   },
   "outputs": [],
   "source": []
  },
  {
   "cell_type": "code",
   "execution_count": 9,
   "metadata": {
    "collapsed": true
   },
   "outputs": [],
   "source": []
  },
  {
   "cell_type": "code",
   "execution_count": null,
   "metadata": {},
   "outputs": [],
   "source": []
  },
  {
   "cell_type": "code",
   "execution_count": null,
   "metadata": {
    "collapsed": true
   },
   "outputs": [],
   "source": []
  }
 ],
 "metadata": {
  "kernelspec": {
   "display_name": "Python 3",
   "language": "python",
   "name": "python3"
  },
  "language_info": {
   "codemirror_mode": {
    "name": "ipython",
    "version": 3
   },
   "file_extension": ".py",
   "mimetype": "text/x-python",
   "name": "python",
   "nbconvert_exporter": "python",
   "pygments_lexer": "ipython3",
   "version": "3.6.2"
  }
 },
 "nbformat": 4,
 "nbformat_minor": 2
}
